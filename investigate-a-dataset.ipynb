{
 "cells": [
  {
   "cell_type": "markdown",
   "id": "9ff1e903",
   "metadata": {
    "papermill": {
     "duration": 0.017022,
     "end_time": "2022-06-18T12:18:55.271436",
     "exception": false,
     "start_time": "2022-06-18T12:18:55.254414",
     "status": "completed"
    },
    "tags": []
   },
   "source": [
    "# Project: Investigate a Dataset - TMDb Movie Data\n",
    "\n",
    "## Table of Contents\n",
    "<ul>\n",
    "<li><a href=\"#intro\">Introduction</a></li>\n",
    "<li><a href=\"#wrangling\">Data Wrangling</a></li>\n",
    "<li><a href=\"#eda\">Exploratory Data Analysis</a></li>\n",
    "    <ul>\n",
    "    <li><a href=\"#question1\">WHAT PROPERTIES CAN BE GOOD INDICATORS OF HIGH REVENUE MOVIES?</a></li>\n",
    "    </ul>\n",
    "<li><a href=\"#conclusions\">Conclusions</a></li>\n",
    "</ul>"
   ]
  },
  {
   "cell_type": "markdown",
   "id": "f1c897b1",
   "metadata": {
    "papermill": {
     "duration": 0.015733,
     "end_time": "2022-06-18T12:18:55.303498",
     "exception": false,
     "start_time": "2022-06-18T12:18:55.287765",
     "status": "completed"
    },
    "tags": []
   },
   "source": [
    "<a id='intro'></a>\n",
    "## Introduction\n",
    "\n",
    "### Dataset Description  \n",
    "\n",
    "This data set contains information about 10,000 movies collected from The Movie Database (TMDb), including user ratings and revenue.\n",
    "\n",
    "\n",
    "### Question(s) for Analysis\n",
    ">**Question One**: WHAT PROPERTIES CAN BE GOOD INDICATORS OF HIGH REVENUE MOVIES?"
   ]
  },
  {
   "cell_type": "code",
   "execution_count": 1,
   "id": "e9734ffd",
   "metadata": {
    "execution": {
     "iopub.execute_input": "2022-06-18T12:18:55.337445Z",
     "iopub.status.busy": "2022-06-18T12:18:55.336819Z",
     "iopub.status.idle": "2022-06-18T12:18:56.488274Z",
     "shell.execute_reply": "2022-06-18T12:18:56.487256Z"
    },
    "papermill": {
     "duration": 1.171455,
     "end_time": "2022-06-18T12:18:56.490980",
     "exception": false,
     "start_time": "2022-06-18T12:18:55.319525",
     "status": "completed"
    },
    "tags": []
   },
   "outputs": [],
   "source": [
    "# Use this cell to set up import statements for all of the packages that you\n",
    "#   plan to use.\n",
    "import pandas as pd\n",
    "import numpy as np\n",
    "import matplotlib.pyplot as plt\n",
    "import seaborn as sns\n",
    "\n",
    "%matplotlib inline\n",
    "# Remember to include a 'magic word' so that your visualizations are plotted\n",
    "#   inline with the notebook. See this page for more:\n",
    "#   http://ipython.readthedocs.io/en/stable/interactive/magics.html\n"
   ]
  },
  {
   "cell_type": "code",
   "execution_count": 2,
   "id": "38ca5aff",
   "metadata": {
    "execution": {
     "iopub.execute_input": "2022-06-18T12:18:56.525821Z",
     "iopub.status.busy": "2022-06-18T12:18:56.525382Z",
     "iopub.status.idle": "2022-06-18T12:18:56.529447Z",
     "shell.execute_reply": "2022-06-18T12:18:56.528429Z"
    },
    "papermill": {
     "duration": 0.023474,
     "end_time": "2022-06-18T12:18:56.531396",
     "exception": false,
     "start_time": "2022-06-18T12:18:56.507922",
     "status": "completed"
    },
    "tags": []
   },
   "outputs": [],
   "source": [
    "# Upgrade pandas to use dataframe.explode() function. \n",
    "#!pip install --upgrade pandas==0.25.0"
   ]
  },
  {
   "cell_type": "markdown",
   "id": "1ec5232e",
   "metadata": {
    "papermill": {
     "duration": 0.016379,
     "end_time": "2022-06-18T12:18:56.564280",
     "exception": false,
     "start_time": "2022-06-18T12:18:56.547901",
     "status": "completed"
    },
    "tags": []
   },
   "source": [
    "<a id='wrangling'></a>\n",
    "## Data Wrangling\n",
    "\n",
    "### General Properties\n"
   ]
  },
  {
   "cell_type": "markdown",
   "id": "c6683b5f",
   "metadata": {
    "papermill": {
     "duration": 0.015329,
     "end_time": "2022-06-18T12:18:56.595467",
     "exception": false,
     "start_time": "2022-06-18T12:18:56.580138",
     "status": "completed"
    },
    "tags": []
   },
   "source": []
  },
  {
   "cell_type": "code",
   "execution_count": 3,
   "id": "45af00f0",
   "metadata": {
    "execution": {
     "iopub.execute_input": "2022-06-18T12:18:56.628877Z",
     "iopub.status.busy": "2022-06-18T12:18:56.628491Z",
     "iopub.status.idle": "2022-06-18T12:18:56.934287Z",
     "shell.execute_reply": "2022-06-18T12:18:56.933568Z"
    },
    "papermill": {
     "duration": 0.32547,
     "end_time": "2022-06-18T12:18:56.936662",
     "exception": false,
     "start_time": "2022-06-18T12:18:56.611192",
     "status": "completed"
    },
    "tags": []
   },
   "outputs": [
    {
     "data": {
      "text/html": [
       "<div>\n",
       "<style scoped>\n",
       "    .dataframe tbody tr th:only-of-type {\n",
       "        vertical-align: middle;\n",
       "    }\n",
       "\n",
       "    .dataframe tbody tr th {\n",
       "        vertical-align: top;\n",
       "    }\n",
       "\n",
       "    .dataframe thead th {\n",
       "        text-align: right;\n",
       "    }\n",
       "</style>\n",
       "<table border=\"1\" class=\"dataframe\">\n",
       "  <thead>\n",
       "    <tr style=\"text-align: right;\">\n",
       "      <th></th>\n",
       "      <th>id</th>\n",
       "      <th>imdb_id</th>\n",
       "      <th>popularity</th>\n",
       "      <th>budget</th>\n",
       "      <th>revenue</th>\n",
       "      <th>original_title</th>\n",
       "      <th>cast</th>\n",
       "      <th>homepage</th>\n",
       "      <th>director</th>\n",
       "      <th>tagline</th>\n",
       "      <th>...</th>\n",
       "      <th>overview</th>\n",
       "      <th>runtime</th>\n",
       "      <th>genres</th>\n",
       "      <th>production_companies</th>\n",
       "      <th>release_date</th>\n",
       "      <th>vote_count</th>\n",
       "      <th>vote_average</th>\n",
       "      <th>release_year</th>\n",
       "      <th>budget_adj</th>\n",
       "      <th>revenue_adj</th>\n",
       "    </tr>\n",
       "  </thead>\n",
       "  <tbody>\n",
       "    <tr>\n",
       "      <th>0</th>\n",
       "      <td>135397</td>\n",
       "      <td>tt0369610</td>\n",
       "      <td>32.985763</td>\n",
       "      <td>150000000</td>\n",
       "      <td>1513528810</td>\n",
       "      <td>Jurassic World</td>\n",
       "      <td>Chris Pratt|Bryce Dallas Howard|Irrfan Khan|Vi...</td>\n",
       "      <td>http://www.jurassicworld.com/</td>\n",
       "      <td>Colin Trevorrow</td>\n",
       "      <td>The park is open.</td>\n",
       "      <td>...</td>\n",
       "      <td>Twenty-two years after the events of Jurassic ...</td>\n",
       "      <td>124</td>\n",
       "      <td>Action|Adventure|Science Fiction|Thriller</td>\n",
       "      <td>Universal Studios|Amblin Entertainment|Legenda...</td>\n",
       "      <td>6/9/15</td>\n",
       "      <td>5562</td>\n",
       "      <td>6.5</td>\n",
       "      <td>2015</td>\n",
       "      <td>1.379999e+08</td>\n",
       "      <td>1.392446e+09</td>\n",
       "    </tr>\n",
       "    <tr>\n",
       "      <th>1</th>\n",
       "      <td>76341</td>\n",
       "      <td>tt1392190</td>\n",
       "      <td>28.419936</td>\n",
       "      <td>150000000</td>\n",
       "      <td>378436354</td>\n",
       "      <td>Mad Max: Fury Road</td>\n",
       "      <td>Tom Hardy|Charlize Theron|Hugh Keays-Byrne|Nic...</td>\n",
       "      <td>http://www.madmaxmovie.com/</td>\n",
       "      <td>George Miller</td>\n",
       "      <td>What a Lovely Day.</td>\n",
       "      <td>...</td>\n",
       "      <td>An apocalyptic story set in the furthest reach...</td>\n",
       "      <td>120</td>\n",
       "      <td>Action|Adventure|Science Fiction|Thriller</td>\n",
       "      <td>Village Roadshow Pictures|Kennedy Miller Produ...</td>\n",
       "      <td>5/13/15</td>\n",
       "      <td>6185</td>\n",
       "      <td>7.1</td>\n",
       "      <td>2015</td>\n",
       "      <td>1.379999e+08</td>\n",
       "      <td>3.481613e+08</td>\n",
       "    </tr>\n",
       "    <tr>\n",
       "      <th>2</th>\n",
       "      <td>262500</td>\n",
       "      <td>tt2908446</td>\n",
       "      <td>13.112507</td>\n",
       "      <td>110000000</td>\n",
       "      <td>295238201</td>\n",
       "      <td>Insurgent</td>\n",
       "      <td>Shailene Woodley|Theo James|Kate Winslet|Ansel...</td>\n",
       "      <td>http://www.thedivergentseries.movie/#insurgent</td>\n",
       "      <td>Robert Schwentke</td>\n",
       "      <td>One Choice Can Destroy You</td>\n",
       "      <td>...</td>\n",
       "      <td>Beatrice Prior must confront her inner demons ...</td>\n",
       "      <td>119</td>\n",
       "      <td>Adventure|Science Fiction|Thriller</td>\n",
       "      <td>Summit Entertainment|Mandeville Films|Red Wago...</td>\n",
       "      <td>3/18/15</td>\n",
       "      <td>2480</td>\n",
       "      <td>6.3</td>\n",
       "      <td>2015</td>\n",
       "      <td>1.012000e+08</td>\n",
       "      <td>2.716190e+08</td>\n",
       "    </tr>\n",
       "    <tr>\n",
       "      <th>3</th>\n",
       "      <td>140607</td>\n",
       "      <td>tt2488496</td>\n",
       "      <td>11.173104</td>\n",
       "      <td>200000000</td>\n",
       "      <td>2068178225</td>\n",
       "      <td>Star Wars: The Force Awakens</td>\n",
       "      <td>Harrison Ford|Mark Hamill|Carrie Fisher|Adam D...</td>\n",
       "      <td>http://www.starwars.com/films/star-wars-episod...</td>\n",
       "      <td>J.J. Abrams</td>\n",
       "      <td>Every generation has a story.</td>\n",
       "      <td>...</td>\n",
       "      <td>Thirty years after defeating the Galactic Empi...</td>\n",
       "      <td>136</td>\n",
       "      <td>Action|Adventure|Science Fiction|Fantasy</td>\n",
       "      <td>Lucasfilm|Truenorth Productions|Bad Robot</td>\n",
       "      <td>12/15/15</td>\n",
       "      <td>5292</td>\n",
       "      <td>7.5</td>\n",
       "      <td>2015</td>\n",
       "      <td>1.839999e+08</td>\n",
       "      <td>1.902723e+09</td>\n",
       "    </tr>\n",
       "    <tr>\n",
       "      <th>4</th>\n",
       "      <td>168259</td>\n",
       "      <td>tt2820852</td>\n",
       "      <td>9.335014</td>\n",
       "      <td>190000000</td>\n",
       "      <td>1506249360</td>\n",
       "      <td>Furious 7</td>\n",
       "      <td>Vin Diesel|Paul Walker|Jason Statham|Michelle ...</td>\n",
       "      <td>http://www.furious7.com/</td>\n",
       "      <td>James Wan</td>\n",
       "      <td>Vengeance Hits Home</td>\n",
       "      <td>...</td>\n",
       "      <td>Deckard Shaw seeks revenge against Dominic Tor...</td>\n",
       "      <td>137</td>\n",
       "      <td>Action|Crime|Thriller</td>\n",
       "      <td>Universal Pictures|Original Film|Media Rights ...</td>\n",
       "      <td>4/1/15</td>\n",
       "      <td>2947</td>\n",
       "      <td>7.3</td>\n",
       "      <td>2015</td>\n",
       "      <td>1.747999e+08</td>\n",
       "      <td>1.385749e+09</td>\n",
       "    </tr>\n",
       "  </tbody>\n",
       "</table>\n",
       "<p>5 rows × 21 columns</p>\n",
       "</div>"
      ],
      "text/plain": [
       "       id    imdb_id  popularity     budget     revenue  \\\n",
       "0  135397  tt0369610   32.985763  150000000  1513528810   \n",
       "1   76341  tt1392190   28.419936  150000000   378436354   \n",
       "2  262500  tt2908446   13.112507  110000000   295238201   \n",
       "3  140607  tt2488496   11.173104  200000000  2068178225   \n",
       "4  168259  tt2820852    9.335014  190000000  1506249360   \n",
       "\n",
       "                 original_title  \\\n",
       "0                Jurassic World   \n",
       "1            Mad Max: Fury Road   \n",
       "2                     Insurgent   \n",
       "3  Star Wars: The Force Awakens   \n",
       "4                     Furious 7   \n",
       "\n",
       "                                                cast  \\\n",
       "0  Chris Pratt|Bryce Dallas Howard|Irrfan Khan|Vi...   \n",
       "1  Tom Hardy|Charlize Theron|Hugh Keays-Byrne|Nic...   \n",
       "2  Shailene Woodley|Theo James|Kate Winslet|Ansel...   \n",
       "3  Harrison Ford|Mark Hamill|Carrie Fisher|Adam D...   \n",
       "4  Vin Diesel|Paul Walker|Jason Statham|Michelle ...   \n",
       "\n",
       "                                            homepage          director  \\\n",
       "0                      http://www.jurassicworld.com/   Colin Trevorrow   \n",
       "1                        http://www.madmaxmovie.com/     George Miller   \n",
       "2     http://www.thedivergentseries.movie/#insurgent  Robert Schwentke   \n",
       "3  http://www.starwars.com/films/star-wars-episod...       J.J. Abrams   \n",
       "4                           http://www.furious7.com/         James Wan   \n",
       "\n",
       "                         tagline  ...  \\\n",
       "0              The park is open.  ...   \n",
       "1             What a Lovely Day.  ...   \n",
       "2     One Choice Can Destroy You  ...   \n",
       "3  Every generation has a story.  ...   \n",
       "4            Vengeance Hits Home  ...   \n",
       "\n",
       "                                            overview runtime  \\\n",
       "0  Twenty-two years after the events of Jurassic ...     124   \n",
       "1  An apocalyptic story set in the furthest reach...     120   \n",
       "2  Beatrice Prior must confront her inner demons ...     119   \n",
       "3  Thirty years after defeating the Galactic Empi...     136   \n",
       "4  Deckard Shaw seeks revenge against Dominic Tor...     137   \n",
       "\n",
       "                                      genres  \\\n",
       "0  Action|Adventure|Science Fiction|Thriller   \n",
       "1  Action|Adventure|Science Fiction|Thriller   \n",
       "2         Adventure|Science Fiction|Thriller   \n",
       "3   Action|Adventure|Science Fiction|Fantasy   \n",
       "4                      Action|Crime|Thriller   \n",
       "\n",
       "                                production_companies release_date vote_count  \\\n",
       "0  Universal Studios|Amblin Entertainment|Legenda...       6/9/15       5562   \n",
       "1  Village Roadshow Pictures|Kennedy Miller Produ...      5/13/15       6185   \n",
       "2  Summit Entertainment|Mandeville Films|Red Wago...      3/18/15       2480   \n",
       "3          Lucasfilm|Truenorth Productions|Bad Robot     12/15/15       5292   \n",
       "4  Universal Pictures|Original Film|Media Rights ...       4/1/15       2947   \n",
       "\n",
       "   vote_average  release_year    budget_adj   revenue_adj  \n",
       "0           6.5          2015  1.379999e+08  1.392446e+09  \n",
       "1           7.1          2015  1.379999e+08  3.481613e+08  \n",
       "2           6.3          2015  1.012000e+08  2.716190e+08  \n",
       "3           7.5          2015  1.839999e+08  1.902723e+09  \n",
       "4           7.3          2015  1.747999e+08  1.385749e+09  \n",
       "\n",
       "[5 rows x 21 columns]"
      ]
     },
     "execution_count": 3,
     "metadata": {},
     "output_type": "execute_result"
    }
   ],
   "source": [
    "# Load your data and print out a few lines. Perform operations to inspect data\n",
    "#   types and look for instances of missing or possibly errant data.\n",
    "\n",
    "df = pd.read_csv('../input/tmdbmovies/tmdb-movies.csv')\n",
    "df.head()"
   ]
  },
  {
   "cell_type": "code",
   "execution_count": 4,
   "id": "0dbe18d0",
   "metadata": {
    "execution": {
     "iopub.execute_input": "2022-06-18T12:18:56.971012Z",
     "iopub.status.busy": "2022-06-18T12:18:56.970361Z",
     "iopub.status.idle": "2022-06-18T12:18:56.976684Z",
     "shell.execute_reply": "2022-06-18T12:18:56.975772Z"
    },
    "papermill": {
     "duration": 0.025983,
     "end_time": "2022-06-18T12:18:56.979065",
     "exception": false,
     "start_time": "2022-06-18T12:18:56.953082",
     "status": "completed"
    },
    "tags": []
   },
   "outputs": [
    {
     "data": {
      "text/plain": [
       "(10866, 21)"
      ]
     },
     "execution_count": 4,
     "metadata": {},
     "output_type": "execute_result"
    }
   ],
   "source": [
    "df.shape"
   ]
  },
  {
   "cell_type": "code",
   "execution_count": 5,
   "id": "5013b3c3",
   "metadata": {
    "execution": {
     "iopub.execute_input": "2022-06-18T12:18:57.014480Z",
     "iopub.status.busy": "2022-06-18T12:18:57.013752Z",
     "iopub.status.idle": "2022-06-18T12:18:57.069006Z",
     "shell.execute_reply": "2022-06-18T12:18:57.068099Z"
    },
    "papermill": {
     "duration": 0.075428,
     "end_time": "2022-06-18T12:18:57.071112",
     "exception": false,
     "start_time": "2022-06-18T12:18:56.995684",
     "status": "completed"
    },
    "tags": []
   },
   "outputs": [
    {
     "data": {
      "text/html": [
       "<div>\n",
       "<style scoped>\n",
       "    .dataframe tbody tr th:only-of-type {\n",
       "        vertical-align: middle;\n",
       "    }\n",
       "\n",
       "    .dataframe tbody tr th {\n",
       "        vertical-align: top;\n",
       "    }\n",
       "\n",
       "    .dataframe thead th {\n",
       "        text-align: right;\n",
       "    }\n",
       "</style>\n",
       "<table border=\"1\" class=\"dataframe\">\n",
       "  <thead>\n",
       "    <tr style=\"text-align: right;\">\n",
       "      <th></th>\n",
       "      <th>id</th>\n",
       "      <th>popularity</th>\n",
       "      <th>budget</th>\n",
       "      <th>revenue</th>\n",
       "      <th>runtime</th>\n",
       "      <th>vote_count</th>\n",
       "      <th>vote_average</th>\n",
       "      <th>release_year</th>\n",
       "      <th>budget_adj</th>\n",
       "      <th>revenue_adj</th>\n",
       "    </tr>\n",
       "  </thead>\n",
       "  <tbody>\n",
       "    <tr>\n",
       "      <th>count</th>\n",
       "      <td>10866.000000</td>\n",
       "      <td>10866.000000</td>\n",
       "      <td>1.086600e+04</td>\n",
       "      <td>1.086600e+04</td>\n",
       "      <td>10866.000000</td>\n",
       "      <td>10866.000000</td>\n",
       "      <td>10866.000000</td>\n",
       "      <td>10866.000000</td>\n",
       "      <td>1.086600e+04</td>\n",
       "      <td>1.086600e+04</td>\n",
       "    </tr>\n",
       "    <tr>\n",
       "      <th>mean</th>\n",
       "      <td>66064.177434</td>\n",
       "      <td>0.646441</td>\n",
       "      <td>1.462570e+07</td>\n",
       "      <td>3.982332e+07</td>\n",
       "      <td>102.070863</td>\n",
       "      <td>217.389748</td>\n",
       "      <td>5.974922</td>\n",
       "      <td>2001.322658</td>\n",
       "      <td>1.755104e+07</td>\n",
       "      <td>5.136436e+07</td>\n",
       "    </tr>\n",
       "    <tr>\n",
       "      <th>std</th>\n",
       "      <td>92130.136561</td>\n",
       "      <td>1.000185</td>\n",
       "      <td>3.091321e+07</td>\n",
       "      <td>1.170035e+08</td>\n",
       "      <td>31.381405</td>\n",
       "      <td>575.619058</td>\n",
       "      <td>0.935142</td>\n",
       "      <td>12.812941</td>\n",
       "      <td>3.430616e+07</td>\n",
       "      <td>1.446325e+08</td>\n",
       "    </tr>\n",
       "    <tr>\n",
       "      <th>min</th>\n",
       "      <td>5.000000</td>\n",
       "      <td>0.000065</td>\n",
       "      <td>0.000000e+00</td>\n",
       "      <td>0.000000e+00</td>\n",
       "      <td>0.000000</td>\n",
       "      <td>10.000000</td>\n",
       "      <td>1.500000</td>\n",
       "      <td>1960.000000</td>\n",
       "      <td>0.000000e+00</td>\n",
       "      <td>0.000000e+00</td>\n",
       "    </tr>\n",
       "    <tr>\n",
       "      <th>25%</th>\n",
       "      <td>10596.250000</td>\n",
       "      <td>0.207583</td>\n",
       "      <td>0.000000e+00</td>\n",
       "      <td>0.000000e+00</td>\n",
       "      <td>90.000000</td>\n",
       "      <td>17.000000</td>\n",
       "      <td>5.400000</td>\n",
       "      <td>1995.000000</td>\n",
       "      <td>0.000000e+00</td>\n",
       "      <td>0.000000e+00</td>\n",
       "    </tr>\n",
       "    <tr>\n",
       "      <th>50%</th>\n",
       "      <td>20669.000000</td>\n",
       "      <td>0.383856</td>\n",
       "      <td>0.000000e+00</td>\n",
       "      <td>0.000000e+00</td>\n",
       "      <td>99.000000</td>\n",
       "      <td>38.000000</td>\n",
       "      <td>6.000000</td>\n",
       "      <td>2006.000000</td>\n",
       "      <td>0.000000e+00</td>\n",
       "      <td>0.000000e+00</td>\n",
       "    </tr>\n",
       "    <tr>\n",
       "      <th>75%</th>\n",
       "      <td>75610.000000</td>\n",
       "      <td>0.713817</td>\n",
       "      <td>1.500000e+07</td>\n",
       "      <td>2.400000e+07</td>\n",
       "      <td>111.000000</td>\n",
       "      <td>145.750000</td>\n",
       "      <td>6.600000</td>\n",
       "      <td>2011.000000</td>\n",
       "      <td>2.085325e+07</td>\n",
       "      <td>3.369710e+07</td>\n",
       "    </tr>\n",
       "    <tr>\n",
       "      <th>max</th>\n",
       "      <td>417859.000000</td>\n",
       "      <td>32.985763</td>\n",
       "      <td>4.250000e+08</td>\n",
       "      <td>2.781506e+09</td>\n",
       "      <td>900.000000</td>\n",
       "      <td>9767.000000</td>\n",
       "      <td>9.200000</td>\n",
       "      <td>2015.000000</td>\n",
       "      <td>4.250000e+08</td>\n",
       "      <td>2.827124e+09</td>\n",
       "    </tr>\n",
       "  </tbody>\n",
       "</table>\n",
       "</div>"
      ],
      "text/plain": [
       "                  id    popularity        budget       revenue       runtime  \\\n",
       "count   10866.000000  10866.000000  1.086600e+04  1.086600e+04  10866.000000   \n",
       "mean    66064.177434      0.646441  1.462570e+07  3.982332e+07    102.070863   \n",
       "std     92130.136561      1.000185  3.091321e+07  1.170035e+08     31.381405   \n",
       "min         5.000000      0.000065  0.000000e+00  0.000000e+00      0.000000   \n",
       "25%     10596.250000      0.207583  0.000000e+00  0.000000e+00     90.000000   \n",
       "50%     20669.000000      0.383856  0.000000e+00  0.000000e+00     99.000000   \n",
       "75%     75610.000000      0.713817  1.500000e+07  2.400000e+07    111.000000   \n",
       "max    417859.000000     32.985763  4.250000e+08  2.781506e+09    900.000000   \n",
       "\n",
       "         vote_count  vote_average  release_year    budget_adj   revenue_adj  \n",
       "count  10866.000000  10866.000000  10866.000000  1.086600e+04  1.086600e+04  \n",
       "mean     217.389748      5.974922   2001.322658  1.755104e+07  5.136436e+07  \n",
       "std      575.619058      0.935142     12.812941  3.430616e+07  1.446325e+08  \n",
       "min       10.000000      1.500000   1960.000000  0.000000e+00  0.000000e+00  \n",
       "25%       17.000000      5.400000   1995.000000  0.000000e+00  0.000000e+00  \n",
       "50%       38.000000      6.000000   2006.000000  0.000000e+00  0.000000e+00  \n",
       "75%      145.750000      6.600000   2011.000000  2.085325e+07  3.369710e+07  \n",
       "max     9767.000000      9.200000   2015.000000  4.250000e+08  2.827124e+09  "
      ]
     },
     "execution_count": 5,
     "metadata": {},
     "output_type": "execute_result"
    }
   ],
   "source": [
    "df.describe()"
   ]
  },
  {
   "cell_type": "code",
   "execution_count": 6,
   "id": "ba86b3b1",
   "metadata": {
    "execution": {
     "iopub.execute_input": "2022-06-18T12:18:57.106138Z",
     "iopub.status.busy": "2022-06-18T12:18:57.105558Z",
     "iopub.status.idle": "2022-06-18T12:18:57.138318Z",
     "shell.execute_reply": "2022-06-18T12:18:57.137148Z"
    },
    "papermill": {
     "duration": 0.053391,
     "end_time": "2022-06-18T12:18:57.141221",
     "exception": false,
     "start_time": "2022-06-18T12:18:57.087830",
     "status": "completed"
    },
    "tags": []
   },
   "outputs": [
    {
     "name": "stdout",
     "output_type": "stream",
     "text": [
      "<class 'pandas.core.frame.DataFrame'>\n",
      "RangeIndex: 10866 entries, 0 to 10865\n",
      "Data columns (total 21 columns):\n",
      " #   Column                Non-Null Count  Dtype  \n",
      "---  ------                --------------  -----  \n",
      " 0   id                    10866 non-null  int64  \n",
      " 1   imdb_id               10856 non-null  object \n",
      " 2   popularity            10866 non-null  float64\n",
      " 3   budget                10866 non-null  int64  \n",
      " 4   revenue               10866 non-null  int64  \n",
      " 5   original_title        10866 non-null  object \n",
      " 6   cast                  10790 non-null  object \n",
      " 7   homepage              2936 non-null   object \n",
      " 8   director              10822 non-null  object \n",
      " 9   tagline               8042 non-null   object \n",
      " 10  keywords              9373 non-null   object \n",
      " 11  overview              10862 non-null  object \n",
      " 12  runtime               10866 non-null  int64  \n",
      " 13  genres                10843 non-null  object \n",
      " 14  production_companies  9836 non-null   object \n",
      " 15  release_date          10866 non-null  object \n",
      " 16  vote_count            10866 non-null  int64  \n",
      " 17  vote_average          10866 non-null  float64\n",
      " 18  release_year          10866 non-null  int64  \n",
      " 19  budget_adj            10866 non-null  float64\n",
      " 20  revenue_adj           10866 non-null  float64\n",
      "dtypes: float64(4), int64(6), object(11)\n",
      "memory usage: 1.7+ MB\n"
     ]
    }
   ],
   "source": [
    "df.info()"
   ]
  },
  {
   "cell_type": "code",
   "execution_count": 7,
   "id": "a15a50d2",
   "metadata": {
    "execution": {
     "iopub.execute_input": "2022-06-18T12:18:57.177416Z",
     "iopub.status.busy": "2022-06-18T12:18:57.176322Z",
     "iopub.status.idle": "2022-06-18T12:18:57.203426Z",
     "shell.execute_reply": "2022-06-18T12:18:57.202446Z"
    },
    "papermill": {
     "duration": 0.047333,
     "end_time": "2022-06-18T12:18:57.205615",
     "exception": false,
     "start_time": "2022-06-18T12:18:57.158282",
     "status": "completed"
    },
    "tags": []
   },
   "outputs": [
    {
     "data": {
      "text/html": [
       "<div>\n",
       "<style scoped>\n",
       "    .dataframe tbody tr th:only-of-type {\n",
       "        vertical-align: middle;\n",
       "    }\n",
       "\n",
       "    .dataframe tbody tr th {\n",
       "        vertical-align: top;\n",
       "    }\n",
       "\n",
       "    .dataframe thead th {\n",
       "        text-align: right;\n",
       "    }\n",
       "</style>\n",
       "<table border=\"1\" class=\"dataframe\">\n",
       "  <thead>\n",
       "    <tr style=\"text-align: right;\">\n",
       "      <th></th>\n",
       "      <th>id</th>\n",
       "      <th>imdb_id</th>\n",
       "      <th>popularity</th>\n",
       "      <th>budget</th>\n",
       "      <th>revenue</th>\n",
       "      <th>original_title</th>\n",
       "      <th>cast</th>\n",
       "      <th>homepage</th>\n",
       "      <th>director</th>\n",
       "      <th>tagline</th>\n",
       "      <th>...</th>\n",
       "      <th>overview</th>\n",
       "      <th>runtime</th>\n",
       "      <th>genres</th>\n",
       "      <th>production_companies</th>\n",
       "      <th>release_date</th>\n",
       "      <th>vote_count</th>\n",
       "      <th>vote_average</th>\n",
       "      <th>release_year</th>\n",
       "      <th>budget_adj</th>\n",
       "      <th>revenue_adj</th>\n",
       "    </tr>\n",
       "  </thead>\n",
       "  <tbody>\n",
       "    <tr>\n",
       "      <th>0</th>\n",
       "      <td>135397</td>\n",
       "      <td>tt0369610</td>\n",
       "      <td>32.985763</td>\n",
       "      <td>150000000</td>\n",
       "      <td>1513528810</td>\n",
       "      <td>Jurassic World</td>\n",
       "      <td>Chris Pratt|Bryce Dallas Howard|Irrfan Khan|Vi...</td>\n",
       "      <td>http://www.jurassicworld.com/</td>\n",
       "      <td>Colin Trevorrow</td>\n",
       "      <td>The park is open.</td>\n",
       "      <td>...</td>\n",
       "      <td>Twenty-two years after the events of Jurassic ...</td>\n",
       "      <td>124</td>\n",
       "      <td>Action|Adventure|Science Fiction|Thriller</td>\n",
       "      <td>Universal Studios|Amblin Entertainment|Legenda...</td>\n",
       "      <td>6/9/15</td>\n",
       "      <td>5562</td>\n",
       "      <td>6.5</td>\n",
       "      <td>2015</td>\n",
       "      <td>1.379999e+08</td>\n",
       "      <td>1.392446e+09</td>\n",
       "    </tr>\n",
       "    <tr>\n",
       "      <th>1</th>\n",
       "      <td>76341</td>\n",
       "      <td>tt1392190</td>\n",
       "      <td>28.419936</td>\n",
       "      <td>150000000</td>\n",
       "      <td>378436354</td>\n",
       "      <td>Mad Max: Fury Road</td>\n",
       "      <td>Tom Hardy|Charlize Theron|Hugh Keays-Byrne|Nic...</td>\n",
       "      <td>http://www.madmaxmovie.com/</td>\n",
       "      <td>George Miller</td>\n",
       "      <td>What a Lovely Day.</td>\n",
       "      <td>...</td>\n",
       "      <td>An apocalyptic story set in the furthest reach...</td>\n",
       "      <td>120</td>\n",
       "      <td>Action|Adventure|Science Fiction|Thriller</td>\n",
       "      <td>Village Roadshow Pictures|Kennedy Miller Produ...</td>\n",
       "      <td>5/13/15</td>\n",
       "      <td>6185</td>\n",
       "      <td>7.1</td>\n",
       "      <td>2015</td>\n",
       "      <td>1.379999e+08</td>\n",
       "      <td>3.481613e+08</td>\n",
       "    </tr>\n",
       "    <tr>\n",
       "      <th>2</th>\n",
       "      <td>262500</td>\n",
       "      <td>tt2908446</td>\n",
       "      <td>13.112507</td>\n",
       "      <td>110000000</td>\n",
       "      <td>295238201</td>\n",
       "      <td>Insurgent</td>\n",
       "      <td>Shailene Woodley|Theo James|Kate Winslet|Ansel...</td>\n",
       "      <td>http://www.thedivergentseries.movie/#insurgent</td>\n",
       "      <td>Robert Schwentke</td>\n",
       "      <td>One Choice Can Destroy You</td>\n",
       "      <td>...</td>\n",
       "      <td>Beatrice Prior must confront her inner demons ...</td>\n",
       "      <td>119</td>\n",
       "      <td>Adventure|Science Fiction|Thriller</td>\n",
       "      <td>Summit Entertainment|Mandeville Films|Red Wago...</td>\n",
       "      <td>3/18/15</td>\n",
       "      <td>2480</td>\n",
       "      <td>6.3</td>\n",
       "      <td>2015</td>\n",
       "      <td>1.012000e+08</td>\n",
       "      <td>2.716190e+08</td>\n",
       "    </tr>\n",
       "    <tr>\n",
       "      <th>3</th>\n",
       "      <td>140607</td>\n",
       "      <td>tt2488496</td>\n",
       "      <td>11.173104</td>\n",
       "      <td>200000000</td>\n",
       "      <td>2068178225</td>\n",
       "      <td>Star Wars: The Force Awakens</td>\n",
       "      <td>Harrison Ford|Mark Hamill|Carrie Fisher|Adam D...</td>\n",
       "      <td>http://www.starwars.com/films/star-wars-episod...</td>\n",
       "      <td>J.J. Abrams</td>\n",
       "      <td>Every generation has a story.</td>\n",
       "      <td>...</td>\n",
       "      <td>Thirty years after defeating the Galactic Empi...</td>\n",
       "      <td>136</td>\n",
       "      <td>Action|Adventure|Science Fiction|Fantasy</td>\n",
       "      <td>Lucasfilm|Truenorth Productions|Bad Robot</td>\n",
       "      <td>12/15/15</td>\n",
       "      <td>5292</td>\n",
       "      <td>7.5</td>\n",
       "      <td>2015</td>\n",
       "      <td>1.839999e+08</td>\n",
       "      <td>1.902723e+09</td>\n",
       "    </tr>\n",
       "    <tr>\n",
       "      <th>4</th>\n",
       "      <td>168259</td>\n",
       "      <td>tt2820852</td>\n",
       "      <td>9.335014</td>\n",
       "      <td>190000000</td>\n",
       "      <td>1506249360</td>\n",
       "      <td>Furious 7</td>\n",
       "      <td>Vin Diesel|Paul Walker|Jason Statham|Michelle ...</td>\n",
       "      <td>http://www.furious7.com/</td>\n",
       "      <td>James Wan</td>\n",
       "      <td>Vengeance Hits Home</td>\n",
       "      <td>...</td>\n",
       "      <td>Deckard Shaw seeks revenge against Dominic Tor...</td>\n",
       "      <td>137</td>\n",
       "      <td>Action|Crime|Thriller</td>\n",
       "      <td>Universal Pictures|Original Film|Media Rights ...</td>\n",
       "      <td>4/1/15</td>\n",
       "      <td>2947</td>\n",
       "      <td>7.3</td>\n",
       "      <td>2015</td>\n",
       "      <td>1.747999e+08</td>\n",
       "      <td>1.385749e+09</td>\n",
       "    </tr>\n",
       "    <tr>\n",
       "      <th>5</th>\n",
       "      <td>281957</td>\n",
       "      <td>tt1663202</td>\n",
       "      <td>9.110700</td>\n",
       "      <td>135000000</td>\n",
       "      <td>532950503</td>\n",
       "      <td>The Revenant</td>\n",
       "      <td>Leonardo DiCaprio|Tom Hardy|Will Poulter|Domhn...</td>\n",
       "      <td>http://www.foxmovies.com/movies/the-revenant</td>\n",
       "      <td>Alejandro GonzÃ¡lez IÃ±Ã¡rritu</td>\n",
       "      <td>(n. One who has returned, as if from the dead.)</td>\n",
       "      <td>...</td>\n",
       "      <td>In the 1820s, a frontiersman, Hugh Glass, sets...</td>\n",
       "      <td>156</td>\n",
       "      <td>Western|Drama|Adventure|Thriller</td>\n",
       "      <td>Regency Enterprises|Appian Way|CatchPlay|Anony...</td>\n",
       "      <td>12/25/15</td>\n",
       "      <td>3929</td>\n",
       "      <td>7.2</td>\n",
       "      <td>2015</td>\n",
       "      <td>1.241999e+08</td>\n",
       "      <td>4.903142e+08</td>\n",
       "    </tr>\n",
       "    <tr>\n",
       "      <th>6</th>\n",
       "      <td>87101</td>\n",
       "      <td>tt1340138</td>\n",
       "      <td>8.654359</td>\n",
       "      <td>155000000</td>\n",
       "      <td>440603537</td>\n",
       "      <td>Terminator Genisys</td>\n",
       "      <td>Arnold Schwarzenegger|Jason Clarke|Emilia Clar...</td>\n",
       "      <td>http://www.terminatormovie.com/</td>\n",
       "      <td>Alan Taylor</td>\n",
       "      <td>Reset the future</td>\n",
       "      <td>...</td>\n",
       "      <td>The year is 2029. John Connor, leader of the r...</td>\n",
       "      <td>125</td>\n",
       "      <td>Science Fiction|Action|Thriller|Adventure</td>\n",
       "      <td>Paramount Pictures|Skydance Productions</td>\n",
       "      <td>6/23/15</td>\n",
       "      <td>2598</td>\n",
       "      <td>5.8</td>\n",
       "      <td>2015</td>\n",
       "      <td>1.425999e+08</td>\n",
       "      <td>4.053551e+08</td>\n",
       "    </tr>\n",
       "  </tbody>\n",
       "</table>\n",
       "<p>7 rows × 21 columns</p>\n",
       "</div>"
      ],
      "text/plain": [
       "       id    imdb_id  popularity     budget     revenue  \\\n",
       "0  135397  tt0369610   32.985763  150000000  1513528810   \n",
       "1   76341  tt1392190   28.419936  150000000   378436354   \n",
       "2  262500  tt2908446   13.112507  110000000   295238201   \n",
       "3  140607  tt2488496   11.173104  200000000  2068178225   \n",
       "4  168259  tt2820852    9.335014  190000000  1506249360   \n",
       "5  281957  tt1663202    9.110700  135000000   532950503   \n",
       "6   87101  tt1340138    8.654359  155000000   440603537   \n",
       "\n",
       "                 original_title  \\\n",
       "0                Jurassic World   \n",
       "1            Mad Max: Fury Road   \n",
       "2                     Insurgent   \n",
       "3  Star Wars: The Force Awakens   \n",
       "4                     Furious 7   \n",
       "5                  The Revenant   \n",
       "6            Terminator Genisys   \n",
       "\n",
       "                                                cast  \\\n",
       "0  Chris Pratt|Bryce Dallas Howard|Irrfan Khan|Vi...   \n",
       "1  Tom Hardy|Charlize Theron|Hugh Keays-Byrne|Nic...   \n",
       "2  Shailene Woodley|Theo James|Kate Winslet|Ansel...   \n",
       "3  Harrison Ford|Mark Hamill|Carrie Fisher|Adam D...   \n",
       "4  Vin Diesel|Paul Walker|Jason Statham|Michelle ...   \n",
       "5  Leonardo DiCaprio|Tom Hardy|Will Poulter|Domhn...   \n",
       "6  Arnold Schwarzenegger|Jason Clarke|Emilia Clar...   \n",
       "\n",
       "                                            homepage  \\\n",
       "0                      http://www.jurassicworld.com/   \n",
       "1                        http://www.madmaxmovie.com/   \n",
       "2     http://www.thedivergentseries.movie/#insurgent   \n",
       "3  http://www.starwars.com/films/star-wars-episod...   \n",
       "4                           http://www.furious7.com/   \n",
       "5       http://www.foxmovies.com/movies/the-revenant   \n",
       "6                    http://www.terminatormovie.com/   \n",
       "\n",
       "                         director  \\\n",
       "0                 Colin Trevorrow   \n",
       "1                   George Miller   \n",
       "2                Robert Schwentke   \n",
       "3                     J.J. Abrams   \n",
       "4                       James Wan   \n",
       "5  Alejandro GonzÃ¡lez IÃ±Ã¡rritu   \n",
       "6                     Alan Taylor   \n",
       "\n",
       "                                           tagline  ...  \\\n",
       "0                                The park is open.  ...   \n",
       "1                               What a Lovely Day.  ...   \n",
       "2                       One Choice Can Destroy You  ...   \n",
       "3                    Every generation has a story.  ...   \n",
       "4                              Vengeance Hits Home  ...   \n",
       "5  (n. One who has returned, as if from the dead.)  ...   \n",
       "6                                 Reset the future  ...   \n",
       "\n",
       "                                            overview runtime  \\\n",
       "0  Twenty-two years after the events of Jurassic ...     124   \n",
       "1  An apocalyptic story set in the furthest reach...     120   \n",
       "2  Beatrice Prior must confront her inner demons ...     119   \n",
       "3  Thirty years after defeating the Galactic Empi...     136   \n",
       "4  Deckard Shaw seeks revenge against Dominic Tor...     137   \n",
       "5  In the 1820s, a frontiersman, Hugh Glass, sets...     156   \n",
       "6  The year is 2029. John Connor, leader of the r...     125   \n",
       "\n",
       "                                      genres  \\\n",
       "0  Action|Adventure|Science Fiction|Thriller   \n",
       "1  Action|Adventure|Science Fiction|Thriller   \n",
       "2         Adventure|Science Fiction|Thriller   \n",
       "3   Action|Adventure|Science Fiction|Fantasy   \n",
       "4                      Action|Crime|Thriller   \n",
       "5           Western|Drama|Adventure|Thriller   \n",
       "6  Science Fiction|Action|Thriller|Adventure   \n",
       "\n",
       "                                production_companies release_date vote_count  \\\n",
       "0  Universal Studios|Amblin Entertainment|Legenda...       6/9/15       5562   \n",
       "1  Village Roadshow Pictures|Kennedy Miller Produ...      5/13/15       6185   \n",
       "2  Summit Entertainment|Mandeville Films|Red Wago...      3/18/15       2480   \n",
       "3          Lucasfilm|Truenorth Productions|Bad Robot     12/15/15       5292   \n",
       "4  Universal Pictures|Original Film|Media Rights ...       4/1/15       2947   \n",
       "5  Regency Enterprises|Appian Way|CatchPlay|Anony...     12/25/15       3929   \n",
       "6            Paramount Pictures|Skydance Productions      6/23/15       2598   \n",
       "\n",
       "   vote_average  release_year    budget_adj   revenue_adj  \n",
       "0           6.5          2015  1.379999e+08  1.392446e+09  \n",
       "1           7.1          2015  1.379999e+08  3.481613e+08  \n",
       "2           6.3          2015  1.012000e+08  2.716190e+08  \n",
       "3           7.5          2015  1.839999e+08  1.902723e+09  \n",
       "4           7.3          2015  1.747999e+08  1.385749e+09  \n",
       "5           7.2          2015  1.241999e+08  4.903142e+08  \n",
       "6           5.8          2015  1.425999e+08  4.053551e+08  \n",
       "\n",
       "[7 rows x 21 columns]"
      ]
     },
     "execution_count": 7,
     "metadata": {},
     "output_type": "execute_result"
    }
   ],
   "source": [
    "df.head(7)"
   ]
  },
  {
   "cell_type": "markdown",
   "id": "1b675f1b",
   "metadata": {
    "papermill": {
     "duration": 0.017176,
     "end_time": "2022-06-18T12:18:57.240390",
     "exception": false,
     "start_time": "2022-06-18T12:18:57.223214",
     "status": "completed"
    },
    "tags": []
   },
   "source": []
  },
  {
   "cell_type": "markdown",
   "id": "5c0ecb1d",
   "metadata": {
    "papermill": {
     "duration": 0.018003,
     "end_time": "2022-06-18T12:18:57.275796",
     "exception": false,
     "start_time": "2022-06-18T12:18:57.257793",
     "status": "completed"
    },
    "tags": []
   },
   "source": [
    "## Checking for null values"
   ]
  },
  {
   "cell_type": "code",
   "execution_count": 8,
   "id": "6f692be8",
   "metadata": {
    "execution": {
     "iopub.execute_input": "2022-06-18T12:18:57.312442Z",
     "iopub.status.busy": "2022-06-18T12:18:57.312038Z",
     "iopub.status.idle": "2022-06-18T12:18:57.334342Z",
     "shell.execute_reply": "2022-06-18T12:18:57.333416Z"
    },
    "papermill": {
     "duration": 0.043191,
     "end_time": "2022-06-18T12:18:57.336655",
     "exception": false,
     "start_time": "2022-06-18T12:18:57.293464",
     "status": "completed"
    },
    "tags": []
   },
   "outputs": [
    {
     "data": {
      "text/plain": [
       "id                         0\n",
       "imdb_id                   10\n",
       "popularity                 0\n",
       "budget                     0\n",
       "revenue                    0\n",
       "original_title             0\n",
       "cast                      76\n",
       "homepage                7930\n",
       "director                  44\n",
       "tagline                 2824\n",
       "keywords                1493\n",
       "overview                   4\n",
       "runtime                    0\n",
       "genres                    23\n",
       "production_companies    1030\n",
       "release_date               0\n",
       "vote_count                 0\n",
       "vote_average               0\n",
       "release_year               0\n",
       "budget_adj                 0\n",
       "revenue_adj                0\n",
       "dtype: int64"
      ]
     },
     "execution_count": 8,
     "metadata": {},
     "output_type": "execute_result"
    }
   ],
   "source": [
    "df.isnull().sum()"
   ]
  },
  {
   "cell_type": "markdown",
   "id": "c5306d87",
   "metadata": {
    "papermill": {
     "duration": 0.017118,
     "end_time": "2022-06-18T12:18:57.371420",
     "exception": false,
     "start_time": "2022-06-18T12:18:57.354302",
     "status": "completed"
    },
    "tags": []
   },
   "source": [
    "## Data Cleaning"
   ]
  },
  {
   "cell_type": "markdown",
   "id": "2c2d54fc",
   "metadata": {
    "papermill": {
     "duration": 0.017126,
     "end_time": "2022-06-18T12:18:57.406117",
     "exception": false,
     "start_time": "2022-06-18T12:18:57.388991",
     "status": "completed"
    },
    "tags": []
   },
   "source": [
    "Droping the following columns: \n",
    "\n",
    "* ``cast``\n",
    "* ``hompage``\n",
    "* ``director``\n",
    "* ``tagline``\n",
    "* ``keywords``\n",
    "* ``overview``\n",
    "* ``production_company``\n",
    "\n",
    "because they are specific to the movies, and do not offer value to the question(s) of analysis."
   ]
  },
  {
   "cell_type": "code",
   "execution_count": 9,
   "id": "ba9536c2",
   "metadata": {
    "execution": {
     "iopub.execute_input": "2022-06-18T12:18:57.442736Z",
     "iopub.status.busy": "2022-06-18T12:18:57.442337Z",
     "iopub.status.idle": "2022-06-18T12:18:57.448825Z",
     "shell.execute_reply": "2022-06-18T12:18:57.447901Z"
    },
    "papermill": {
     "duration": 0.027303,
     "end_time": "2022-06-18T12:18:57.450786",
     "exception": false,
     "start_time": "2022-06-18T12:18:57.423483",
     "status": "completed"
    },
    "tags": []
   },
   "outputs": [],
   "source": [
    "df.drop(columns=['cast', 'homepage', 'director', 'tagline', 'keywords', 'overview', 'production_companies'], inplace=True)"
   ]
  },
  {
   "cell_type": "code",
   "execution_count": 10,
   "id": "8e2babd4",
   "metadata": {
    "execution": {
     "iopub.execute_input": "2022-06-18T12:18:57.487587Z",
     "iopub.status.busy": "2022-06-18T12:18:57.487179Z",
     "iopub.status.idle": "2022-06-18T12:18:57.505484Z",
     "shell.execute_reply": "2022-06-18T12:18:57.503949Z"
    },
    "papermill": {
     "duration": 0.04006,
     "end_time": "2022-06-18T12:18:57.508329",
     "exception": false,
     "start_time": "2022-06-18T12:18:57.468269",
     "status": "completed"
    },
    "tags": []
   },
   "outputs": [
    {
     "name": "stdout",
     "output_type": "stream",
     "text": [
      "<class 'pandas.core.frame.DataFrame'>\n",
      "RangeIndex: 10866 entries, 0 to 10865\n",
      "Data columns (total 14 columns):\n",
      " #   Column          Non-Null Count  Dtype  \n",
      "---  ------          --------------  -----  \n",
      " 0   id              10866 non-null  int64  \n",
      " 1   imdb_id         10856 non-null  object \n",
      " 2   popularity      10866 non-null  float64\n",
      " 3   budget          10866 non-null  int64  \n",
      " 4   revenue         10866 non-null  int64  \n",
      " 5   original_title  10866 non-null  object \n",
      " 6   runtime         10866 non-null  int64  \n",
      " 7   genres          10843 non-null  object \n",
      " 8   release_date    10866 non-null  object \n",
      " 9   vote_count      10866 non-null  int64  \n",
      " 10  vote_average    10866 non-null  float64\n",
      " 11  release_year    10866 non-null  int64  \n",
      " 12  budget_adj      10866 non-null  float64\n",
      " 13  revenue_adj     10866 non-null  float64\n",
      "dtypes: float64(4), int64(6), object(4)\n",
      "memory usage: 1.2+ MB\n"
     ]
    }
   ],
   "source": [
    "df.info()"
   ]
  },
  {
   "cell_type": "markdown",
   "id": "64362b5f",
   "metadata": {
    "papermill": {
     "duration": 0.017202,
     "end_time": "2022-06-18T12:18:57.544672",
     "exception": false,
     "start_time": "2022-06-18T12:18:57.527470",
     "status": "completed"
    },
    "tags": []
   },
   "source": [
    "The column ``genres`` has some missing values. We are going to check the pattern of the rows with the null values."
   ]
  },
  {
   "cell_type": "code",
   "execution_count": 11,
   "id": "67c293ec",
   "metadata": {
    "execution": {
     "iopub.execute_input": "2022-06-18T12:18:57.581678Z",
     "iopub.status.busy": "2022-06-18T12:18:57.580681Z",
     "iopub.status.idle": "2022-06-18T12:18:57.610272Z",
     "shell.execute_reply": "2022-06-18T12:18:57.609255Z"
    },
    "papermill": {
     "duration": 0.050489,
     "end_time": "2022-06-18T12:18:57.612648",
     "exception": false,
     "start_time": "2022-06-18T12:18:57.562159",
     "status": "completed"
    },
    "tags": []
   },
   "outputs": [
    {
     "data": {
      "text/html": [
       "<div>\n",
       "<style scoped>\n",
       "    .dataframe tbody tr th:only-of-type {\n",
       "        vertical-align: middle;\n",
       "    }\n",
       "\n",
       "    .dataframe tbody tr th {\n",
       "        vertical-align: top;\n",
       "    }\n",
       "\n",
       "    .dataframe thead th {\n",
       "        text-align: right;\n",
       "    }\n",
       "</style>\n",
       "<table border=\"1\" class=\"dataframe\">\n",
       "  <thead>\n",
       "    <tr style=\"text-align: right;\">\n",
       "      <th></th>\n",
       "      <th>id</th>\n",
       "      <th>imdb_id</th>\n",
       "      <th>popularity</th>\n",
       "      <th>budget</th>\n",
       "      <th>revenue</th>\n",
       "      <th>original_title</th>\n",
       "      <th>runtime</th>\n",
       "      <th>genres</th>\n",
       "      <th>release_date</th>\n",
       "      <th>vote_count</th>\n",
       "      <th>vote_average</th>\n",
       "      <th>release_year</th>\n",
       "      <th>budget_adj</th>\n",
       "      <th>revenue_adj</th>\n",
       "    </tr>\n",
       "  </thead>\n",
       "  <tbody>\n",
       "    <tr>\n",
       "      <th>424</th>\n",
       "      <td>363869</td>\n",
       "      <td>tt4835298</td>\n",
       "      <td>0.244648</td>\n",
       "      <td>0</td>\n",
       "      <td>0</td>\n",
       "      <td>Belli di papÃ</td>\n",
       "      <td>100</td>\n",
       "      <td>NaN</td>\n",
       "      <td>10/29/15</td>\n",
       "      <td>21</td>\n",
       "      <td>6.1</td>\n",
       "      <td>2015</td>\n",
       "      <td>0.00000</td>\n",
       "      <td>0.0</td>\n",
       "    </tr>\n",
       "    <tr>\n",
       "      <th>620</th>\n",
       "      <td>361043</td>\n",
       "      <td>tt5022680</td>\n",
       "      <td>0.129696</td>\n",
       "      <td>0</td>\n",
       "      <td>0</td>\n",
       "      <td>All Hallows' Eve 2</td>\n",
       "      <td>90</td>\n",
       "      <td>NaN</td>\n",
       "      <td>10/6/15</td>\n",
       "      <td>13</td>\n",
       "      <td>5.0</td>\n",
       "      <td>2015</td>\n",
       "      <td>0.00000</td>\n",
       "      <td>0.0</td>\n",
       "    </tr>\n",
       "    <tr>\n",
       "      <th>997</th>\n",
       "      <td>287663</td>\n",
       "      <td>NaN</td>\n",
       "      <td>0.330431</td>\n",
       "      <td>0</td>\n",
       "      <td>0</td>\n",
       "      <td>Star Wars Rebels: Spark of Rebellion</td>\n",
       "      <td>44</td>\n",
       "      <td>NaN</td>\n",
       "      <td>10/3/14</td>\n",
       "      <td>13</td>\n",
       "      <td>6.8</td>\n",
       "      <td>2014</td>\n",
       "      <td>0.00000</td>\n",
       "      <td>0.0</td>\n",
       "    </tr>\n",
       "    <tr>\n",
       "      <th>1712</th>\n",
       "      <td>21634</td>\n",
       "      <td>tt1073510</td>\n",
       "      <td>0.302095</td>\n",
       "      <td>0</td>\n",
       "      <td>0</td>\n",
       "      <td>Prayers for Bobby</td>\n",
       "      <td>88</td>\n",
       "      <td>NaN</td>\n",
       "      <td>2/27/09</td>\n",
       "      <td>57</td>\n",
       "      <td>7.4</td>\n",
       "      <td>2009</td>\n",
       "      <td>0.00000</td>\n",
       "      <td>0.0</td>\n",
       "    </tr>\n",
       "    <tr>\n",
       "      <th>1897</th>\n",
       "      <td>40534</td>\n",
       "      <td>tt1229827</td>\n",
       "      <td>0.020701</td>\n",
       "      <td>0</td>\n",
       "      <td>0</td>\n",
       "      <td>Jonas Brothers: The Concert Experience</td>\n",
       "      <td>76</td>\n",
       "      <td>NaN</td>\n",
       "      <td>2/27/09</td>\n",
       "      <td>11</td>\n",
       "      <td>7.0</td>\n",
       "      <td>2009</td>\n",
       "      <td>0.00000</td>\n",
       "      <td>0.0</td>\n",
       "    </tr>\n",
       "    <tr>\n",
       "      <th>2370</th>\n",
       "      <td>127717</td>\n",
       "      <td>tt1525359</td>\n",
       "      <td>0.081892</td>\n",
       "      <td>0</td>\n",
       "      <td>0</td>\n",
       "      <td>Freshman Father</td>\n",
       "      <td>0</td>\n",
       "      <td>NaN</td>\n",
       "      <td>6/5/10</td>\n",
       "      <td>12</td>\n",
       "      <td>5.8</td>\n",
       "      <td>2010</td>\n",
       "      <td>0.00000</td>\n",
       "      <td>0.0</td>\n",
       "    </tr>\n",
       "    <tr>\n",
       "      <th>2376</th>\n",
       "      <td>315620</td>\n",
       "      <td>tt1672218</td>\n",
       "      <td>0.068411</td>\n",
       "      <td>0</td>\n",
       "      <td>0</td>\n",
       "      <td>Doctor Who: A Christmas Carol</td>\n",
       "      <td>62</td>\n",
       "      <td>NaN</td>\n",
       "      <td>12/25/10</td>\n",
       "      <td>11</td>\n",
       "      <td>7.7</td>\n",
       "      <td>2010</td>\n",
       "      <td>0.00000</td>\n",
       "      <td>0.0</td>\n",
       "    </tr>\n",
       "    <tr>\n",
       "      <th>2853</th>\n",
       "      <td>57892</td>\n",
       "      <td>tt0270053</td>\n",
       "      <td>0.130018</td>\n",
       "      <td>0</td>\n",
       "      <td>0</td>\n",
       "      <td>Vizontele</td>\n",
       "      <td>110</td>\n",
       "      <td>NaN</td>\n",
       "      <td>2/2/01</td>\n",
       "      <td>12</td>\n",
       "      <td>7.2</td>\n",
       "      <td>2001</td>\n",
       "      <td>0.00000</td>\n",
       "      <td>0.0</td>\n",
       "    </tr>\n",
       "    <tr>\n",
       "      <th>3279</th>\n",
       "      <td>54330</td>\n",
       "      <td>tt1720044</td>\n",
       "      <td>0.145331</td>\n",
       "      <td>0</td>\n",
       "      <td>0</td>\n",
       "      <td>ì•„ê¸°ì™€ ë‚˜</td>\n",
       "      <td>96</td>\n",
       "      <td>NaN</td>\n",
       "      <td>8/13/08</td>\n",
       "      <td>11</td>\n",
       "      <td>6.1</td>\n",
       "      <td>2008</td>\n",
       "      <td>0.00000</td>\n",
       "      <td>0.0</td>\n",
       "    </tr>\n",
       "    <tr>\n",
       "      <th>4547</th>\n",
       "      <td>123024</td>\n",
       "      <td>tt2305700</td>\n",
       "      <td>0.520520</td>\n",
       "      <td>0</td>\n",
       "      <td>0</td>\n",
       "      <td>London 2012 Olympic Opening Ceremony: Isles of...</td>\n",
       "      <td>220</td>\n",
       "      <td>NaN</td>\n",
       "      <td>7/27/12</td>\n",
       "      <td>12</td>\n",
       "      <td>8.3</td>\n",
       "      <td>2012</td>\n",
       "      <td>0.00000</td>\n",
       "      <td>0.0</td>\n",
       "    </tr>\n",
       "    <tr>\n",
       "      <th>4732</th>\n",
       "      <td>139463</td>\n",
       "      <td>tt2084977</td>\n",
       "      <td>0.235911</td>\n",
       "      <td>0</td>\n",
       "      <td>0</td>\n",
       "      <td>The Scapegoat</td>\n",
       "      <td>100</td>\n",
       "      <td>NaN</td>\n",
       "      <td>9/9/12</td>\n",
       "      <td>12</td>\n",
       "      <td>6.2</td>\n",
       "      <td>2012</td>\n",
       "      <td>0.00000</td>\n",
       "      <td>0.0</td>\n",
       "    </tr>\n",
       "    <tr>\n",
       "      <th>4797</th>\n",
       "      <td>369145</td>\n",
       "      <td>NaN</td>\n",
       "      <td>0.167501</td>\n",
       "      <td>0</td>\n",
       "      <td>0</td>\n",
       "      <td>Doctor Who: The Snowmen</td>\n",
       "      <td>60</td>\n",
       "      <td>NaN</td>\n",
       "      <td>12/25/12</td>\n",
       "      <td>10</td>\n",
       "      <td>7.8</td>\n",
       "      <td>2012</td>\n",
       "      <td>0.00000</td>\n",
       "      <td>0.0</td>\n",
       "    </tr>\n",
       "    <tr>\n",
       "      <th>4890</th>\n",
       "      <td>126909</td>\n",
       "      <td>tt2219564</td>\n",
       "      <td>0.083202</td>\n",
       "      <td>0</td>\n",
       "      <td>0</td>\n",
       "      <td>Cousin Ben Troop Screening</td>\n",
       "      <td>2</td>\n",
       "      <td>NaN</td>\n",
       "      <td>1/1/12</td>\n",
       "      <td>14</td>\n",
       "      <td>7.0</td>\n",
       "      <td>2012</td>\n",
       "      <td>0.00000</td>\n",
       "      <td>0.0</td>\n",
       "    </tr>\n",
       "    <tr>\n",
       "      <th>5830</th>\n",
       "      <td>282848</td>\n",
       "      <td>tt2986512</td>\n",
       "      <td>0.248944</td>\n",
       "      <td>0</td>\n",
       "      <td>0</td>\n",
       "      <td>Doctor Who: The Time of the Doctor</td>\n",
       "      <td>60</td>\n",
       "      <td>NaN</td>\n",
       "      <td>12/25/13</td>\n",
       "      <td>26</td>\n",
       "      <td>8.5</td>\n",
       "      <td>2013</td>\n",
       "      <td>0.00000</td>\n",
       "      <td>0.0</td>\n",
       "    </tr>\n",
       "    <tr>\n",
       "      <th>5934</th>\n",
       "      <td>200204</td>\n",
       "      <td>tt2808968</td>\n",
       "      <td>0.067433</td>\n",
       "      <td>0</td>\n",
       "      <td>0</td>\n",
       "      <td>Prada: Candy</td>\n",
       "      <td>3</td>\n",
       "      <td>NaN</td>\n",
       "      <td>3/25/13</td>\n",
       "      <td>27</td>\n",
       "      <td>6.9</td>\n",
       "      <td>2013</td>\n",
       "      <td>0.00000</td>\n",
       "      <td>0.0</td>\n",
       "    </tr>\n",
       "    <tr>\n",
       "      <th>6043</th>\n",
       "      <td>190940</td>\n",
       "      <td>tt2797242</td>\n",
       "      <td>0.039080</td>\n",
       "      <td>0</td>\n",
       "      <td>0</td>\n",
       "      <td>Bombay Talkies</td>\n",
       "      <td>127</td>\n",
       "      <td>NaN</td>\n",
       "      <td>5/3/13</td>\n",
       "      <td>12</td>\n",
       "      <td>5.9</td>\n",
       "      <td>2013</td>\n",
       "      <td>0.00000</td>\n",
       "      <td>0.0</td>\n",
       "    </tr>\n",
       "    <tr>\n",
       "      <th>6530</th>\n",
       "      <td>168891</td>\n",
       "      <td>tt0818519</td>\n",
       "      <td>0.092724</td>\n",
       "      <td>0</td>\n",
       "      <td>0</td>\n",
       "      <td>Saw Rebirth</td>\n",
       "      <td>6</td>\n",
       "      <td>NaN</td>\n",
       "      <td>10/24/05</td>\n",
       "      <td>24</td>\n",
       "      <td>5.9</td>\n",
       "      <td>2005</td>\n",
       "      <td>0.00000</td>\n",
       "      <td>0.0</td>\n",
       "    </tr>\n",
       "    <tr>\n",
       "      <th>8234</th>\n",
       "      <td>56804</td>\n",
       "      <td>tt0114844</td>\n",
       "      <td>0.028874</td>\n",
       "      <td>0</td>\n",
       "      <td>0</td>\n",
       "      <td>Viaggi di nozze</td>\n",
       "      <td>103</td>\n",
       "      <td>NaN</td>\n",
       "      <td>12/15/95</td>\n",
       "      <td>44</td>\n",
       "      <td>6.7</td>\n",
       "      <td>1995</td>\n",
       "      <td>0.00000</td>\n",
       "      <td>0.0</td>\n",
       "    </tr>\n",
       "    <tr>\n",
       "      <th>8614</th>\n",
       "      <td>65595</td>\n",
       "      <td>tt0117880</td>\n",
       "      <td>0.273934</td>\n",
       "      <td>0</td>\n",
       "      <td>0</td>\n",
       "      <td>T2 3-D: Battle Across Time</td>\n",
       "      <td>12</td>\n",
       "      <td>NaN</td>\n",
       "      <td>1/1/96</td>\n",
       "      <td>14</td>\n",
       "      <td>6.7</td>\n",
       "      <td>1996</td>\n",
       "      <td>0.00000</td>\n",
       "      <td>0.0</td>\n",
       "    </tr>\n",
       "    <tr>\n",
       "      <th>8878</th>\n",
       "      <td>92208</td>\n",
       "      <td>tt0250593</td>\n",
       "      <td>0.038045</td>\n",
       "      <td>0</td>\n",
       "      <td>0</td>\n",
       "      <td>Mom's Got a Date With a Vampire</td>\n",
       "      <td>85</td>\n",
       "      <td>NaN</td>\n",
       "      <td>10/13/00</td>\n",
       "      <td>16</td>\n",
       "      <td>5.4</td>\n",
       "      <td>2000</td>\n",
       "      <td>0.00000</td>\n",
       "      <td>0.0</td>\n",
       "    </tr>\n",
       "    <tr>\n",
       "      <th>9307</th>\n",
       "      <td>141859</td>\n",
       "      <td>tt0097446</td>\n",
       "      <td>0.094652</td>\n",
       "      <td>0</td>\n",
       "      <td>0</td>\n",
       "      <td>Goldeneye</td>\n",
       "      <td>105</td>\n",
       "      <td>NaN</td>\n",
       "      <td>8/26/89</td>\n",
       "      <td>10</td>\n",
       "      <td>5.3</td>\n",
       "      <td>1989</td>\n",
       "      <td>0.00000</td>\n",
       "      <td>0.0</td>\n",
       "    </tr>\n",
       "    <tr>\n",
       "      <th>9799</th>\n",
       "      <td>48847</td>\n",
       "      <td>tt0193716</td>\n",
       "      <td>0.175008</td>\n",
       "      <td>0</td>\n",
       "      <td>0</td>\n",
       "      <td>The Amputee</td>\n",
       "      <td>5</td>\n",
       "      <td>NaN</td>\n",
       "      <td>1/1/74</td>\n",
       "      <td>11</td>\n",
       "      <td>5.0</td>\n",
       "      <td>1974</td>\n",
       "      <td>0.00000</td>\n",
       "      <td>0.0</td>\n",
       "    </tr>\n",
       "    <tr>\n",
       "      <th>10659</th>\n",
       "      <td>4255</td>\n",
       "      <td>tt0065904</td>\n",
       "      <td>0.344172</td>\n",
       "      <td>5000</td>\n",
       "      <td>0</td>\n",
       "      <td>The Party at Kitty and Stud's</td>\n",
       "      <td>71</td>\n",
       "      <td>NaN</td>\n",
       "      <td>2/10/70</td>\n",
       "      <td>10</td>\n",
       "      <td>3.0</td>\n",
       "      <td>1970</td>\n",
       "      <td>28081.84172</td>\n",
       "      <td>0.0</td>\n",
       "    </tr>\n",
       "  </tbody>\n",
       "</table>\n",
       "</div>"
      ],
      "text/plain": [
       "           id    imdb_id  popularity  budget  revenue  \\\n",
       "424    363869  tt4835298    0.244648       0        0   \n",
       "620    361043  tt5022680    0.129696       0        0   \n",
       "997    287663        NaN    0.330431       0        0   \n",
       "1712    21634  tt1073510    0.302095       0        0   \n",
       "1897    40534  tt1229827    0.020701       0        0   \n",
       "2370   127717  tt1525359    0.081892       0        0   \n",
       "2376   315620  tt1672218    0.068411       0        0   \n",
       "2853    57892  tt0270053    0.130018       0        0   \n",
       "3279    54330  tt1720044    0.145331       0        0   \n",
       "4547   123024  tt2305700    0.520520       0        0   \n",
       "4732   139463  tt2084977    0.235911       0        0   \n",
       "4797   369145        NaN    0.167501       0        0   \n",
       "4890   126909  tt2219564    0.083202       0        0   \n",
       "5830   282848  tt2986512    0.248944       0        0   \n",
       "5934   200204  tt2808968    0.067433       0        0   \n",
       "6043   190940  tt2797242    0.039080       0        0   \n",
       "6530   168891  tt0818519    0.092724       0        0   \n",
       "8234    56804  tt0114844    0.028874       0        0   \n",
       "8614    65595  tt0117880    0.273934       0        0   \n",
       "8878    92208  tt0250593    0.038045       0        0   \n",
       "9307   141859  tt0097446    0.094652       0        0   \n",
       "9799    48847  tt0193716    0.175008       0        0   \n",
       "10659    4255  tt0065904    0.344172    5000        0   \n",
       "\n",
       "                                          original_title  runtime genres  \\\n",
       "424                                       Belli di papÃ       100    NaN   \n",
       "620                                   All Hallows' Eve 2       90    NaN   \n",
       "997                 Star Wars Rebels: Spark of Rebellion       44    NaN   \n",
       "1712                                   Prayers for Bobby       88    NaN   \n",
       "1897              Jonas Brothers: The Concert Experience       76    NaN   \n",
       "2370                                     Freshman Father        0    NaN   \n",
       "2376                       Doctor Who: A Christmas Carol       62    NaN   \n",
       "2853                                           Vizontele      110    NaN   \n",
       "3279                                       ì•„ê¸°ì™€ ë‚˜       96    NaN   \n",
       "4547   London 2012 Olympic Opening Ceremony: Isles of...      220    NaN   \n",
       "4732                                       The Scapegoat      100    NaN   \n",
       "4797                             Doctor Who: The Snowmen       60    NaN   \n",
       "4890                          Cousin Ben Troop Screening        2    NaN   \n",
       "5830                  Doctor Who: The Time of the Doctor       60    NaN   \n",
       "5934                                        Prada: Candy        3    NaN   \n",
       "6043                                      Bombay Talkies      127    NaN   \n",
       "6530                                         Saw Rebirth        6    NaN   \n",
       "8234                                     Viaggi di nozze      103    NaN   \n",
       "8614                          T2 3-D: Battle Across Time       12    NaN   \n",
       "8878                     Mom's Got a Date With a Vampire       85    NaN   \n",
       "9307                                           Goldeneye      105    NaN   \n",
       "9799                                         The Amputee        5    NaN   \n",
       "10659                      The Party at Kitty and Stud's       71    NaN   \n",
       "\n",
       "      release_date  vote_count  vote_average  release_year   budget_adj  \\\n",
       "424       10/29/15          21           6.1          2015      0.00000   \n",
       "620        10/6/15          13           5.0          2015      0.00000   \n",
       "997        10/3/14          13           6.8          2014      0.00000   \n",
       "1712       2/27/09          57           7.4          2009      0.00000   \n",
       "1897       2/27/09          11           7.0          2009      0.00000   \n",
       "2370        6/5/10          12           5.8          2010      0.00000   \n",
       "2376      12/25/10          11           7.7          2010      0.00000   \n",
       "2853        2/2/01          12           7.2          2001      0.00000   \n",
       "3279       8/13/08          11           6.1          2008      0.00000   \n",
       "4547       7/27/12          12           8.3          2012      0.00000   \n",
       "4732        9/9/12          12           6.2          2012      0.00000   \n",
       "4797      12/25/12          10           7.8          2012      0.00000   \n",
       "4890        1/1/12          14           7.0          2012      0.00000   \n",
       "5830      12/25/13          26           8.5          2013      0.00000   \n",
       "5934       3/25/13          27           6.9          2013      0.00000   \n",
       "6043        5/3/13          12           5.9          2013      0.00000   \n",
       "6530      10/24/05          24           5.9          2005      0.00000   \n",
       "8234      12/15/95          44           6.7          1995      0.00000   \n",
       "8614        1/1/96          14           6.7          1996      0.00000   \n",
       "8878      10/13/00          16           5.4          2000      0.00000   \n",
       "9307       8/26/89          10           5.3          1989      0.00000   \n",
       "9799        1/1/74          11           5.0          1974      0.00000   \n",
       "10659      2/10/70          10           3.0          1970  28081.84172   \n",
       "\n",
       "       revenue_adj  \n",
       "424            0.0  \n",
       "620            0.0  \n",
       "997            0.0  \n",
       "1712           0.0  \n",
       "1897           0.0  \n",
       "2370           0.0  \n",
       "2376           0.0  \n",
       "2853           0.0  \n",
       "3279           0.0  \n",
       "4547           0.0  \n",
       "4732           0.0  \n",
       "4797           0.0  \n",
       "4890           0.0  \n",
       "5830           0.0  \n",
       "5934           0.0  \n",
       "6043           0.0  \n",
       "6530           0.0  \n",
       "8234           0.0  \n",
       "8614           0.0  \n",
       "8878           0.0  \n",
       "9307           0.0  \n",
       "9799           0.0  \n",
       "10659          0.0  "
      ]
     },
     "execution_count": 11,
     "metadata": {},
     "output_type": "execute_result"
    }
   ],
   "source": [
    "# Creating a filter variable to check the rows with null values at the genre column.\n",
    "filt = (df['genres'].isnull())\n",
    "# Checking the rows\n",
    "df.loc[filt]"
   ]
  },
  {
   "cell_type": "markdown",
   "id": "11b1430c",
   "metadata": {
    "papermill": {
     "duration": 0.018235,
     "end_time": "2022-06-18T12:18:57.649535",
     "exception": false,
     "start_time": "2022-06-18T12:18:57.631300",
     "status": "completed"
    },
    "tags": []
   },
   "source": [
    "We will be droping the rows with ``NaN`` in the ``genres`` column since they do not affect the quality of the data set."
   ]
  },
  {
   "cell_type": "code",
   "execution_count": 12,
   "id": "f0917f57",
   "metadata": {
    "execution": {
     "iopub.execute_input": "2022-06-18T12:18:57.689159Z",
     "iopub.status.busy": "2022-06-18T12:18:57.688745Z",
     "iopub.status.idle": "2022-06-18T12:18:57.696699Z",
     "shell.execute_reply": "2022-06-18T12:18:57.695944Z"
    },
    "papermill": {
     "duration": 0.030198,
     "end_time": "2022-06-18T12:18:57.698813",
     "exception": false,
     "start_time": "2022-06-18T12:18:57.668615",
     "status": "completed"
    },
    "tags": []
   },
   "outputs": [],
   "source": [
    "df.drop(index=df[filt].index, inplace=True)"
   ]
  },
  {
   "cell_type": "markdown",
   "id": "ea9b5850",
   "metadata": {
    "papermill": {
     "duration": 0.018307,
     "end_time": "2022-06-18T12:18:57.736394",
     "exception": false,
     "start_time": "2022-06-18T12:18:57.718087",
     "status": "completed"
    },
    "tags": []
   },
   "source": [
    "Data set quality is good, we will be proceeding in answering our analysis questions."
   ]
  },
  {
   "cell_type": "code",
   "execution_count": 13,
   "id": "3475a2b8",
   "metadata": {
    "execution": {
     "iopub.execute_input": "2022-06-18T12:18:57.776129Z",
     "iopub.status.busy": "2022-06-18T12:18:57.775694Z",
     "iopub.status.idle": "2022-06-18T12:18:57.793762Z",
     "shell.execute_reply": "2022-06-18T12:18:57.792212Z"
    },
    "papermill": {
     "duration": 0.040486,
     "end_time": "2022-06-18T12:18:57.796237",
     "exception": false,
     "start_time": "2022-06-18T12:18:57.755751",
     "status": "completed"
    },
    "tags": []
   },
   "outputs": [
    {
     "name": "stdout",
     "output_type": "stream",
     "text": [
      "<class 'pandas.core.frame.DataFrame'>\n",
      "Int64Index: 10843 entries, 0 to 10865\n",
      "Data columns (total 14 columns):\n",
      " #   Column          Non-Null Count  Dtype  \n",
      "---  ------          --------------  -----  \n",
      " 0   id              10843 non-null  int64  \n",
      " 1   imdb_id         10835 non-null  object \n",
      " 2   popularity      10843 non-null  float64\n",
      " 3   budget          10843 non-null  int64  \n",
      " 4   revenue         10843 non-null  int64  \n",
      " 5   original_title  10843 non-null  object \n",
      " 6   runtime         10843 non-null  int64  \n",
      " 7   genres          10843 non-null  object \n",
      " 8   release_date    10843 non-null  object \n",
      " 9   vote_count      10843 non-null  int64  \n",
      " 10  vote_average    10843 non-null  float64\n",
      " 11  release_year    10843 non-null  int64  \n",
      " 12  budget_adj      10843 non-null  float64\n",
      " 13  revenue_adj     10843 non-null  float64\n",
      "dtypes: float64(4), int64(6), object(4)\n",
      "memory usage: 1.2+ MB\n"
     ]
    }
   ],
   "source": [
    "df.info()"
   ]
  },
  {
   "cell_type": "markdown",
   "id": "b9c0c7fb",
   "metadata": {
    "papermill": {
     "duration": 0.018231,
     "end_time": "2022-06-18T12:18:57.833391",
     "exception": false,
     "start_time": "2022-06-18T12:18:57.815160",
     "status": "completed"
    },
    "tags": []
   },
   "source": [
    "<a id='eda'></a>\n",
    "## Exploratory Data Analysis\n",
    "\n"
   ]
  },
  {
   "cell_type": "markdown",
   "id": "add437b0",
   "metadata": {
    "papermill": {
     "duration": 0.018195,
     "end_time": "2022-06-18T12:18:57.870405",
     "exception": false,
     "start_time": "2022-06-18T12:18:57.852210",
     "status": "completed"
    },
    "tags": []
   },
   "source": [
    "<a id=\"question1\"></a>\n",
    "\n",
    "### WHAT PROPERTIES CAN BE GOOD INDICATORS OF HIGH REVENUE MOVIES?"
   ]
  },
  {
   "cell_type": "markdown",
   "id": "b8ea2a56",
   "metadata": {
    "papermill": {
     "duration": 0.018434,
     "end_time": "2022-06-18T12:18:57.907346",
     "exception": false,
     "start_time": "2022-06-18T12:18:57.888912",
     "status": "completed"
    },
    "tags": []
   },
   "source": [
    "We are going to investigate the correlation of:\n",
    "\n",
    "* `` popularity ``\n",
    "* `` vote_average ``\n",
    "* `` vote_count ``\n",
    "* `` budget_adj``\n",
    "* `` revenue_adj``\n",
    "* `` runtime ``\n",
    "\n",
    "with the returns the movies.\n",
    "\n",
    "we are going to check if the following properties have a positive correlation and how many point will be found close to the line-of-best-fit.\n",
    "\n",
    "we will be checking this properties on groups of high earning movies:\n",
    "\n",
    "<ul>\n",
    "<li><a href=\"#10\">Top 10</a></li>\n",
    "<li><a href=\"#1000\">Top 1000</a></li>\n",
    "<li><a href=\"#10000\">Top 10000</a></li>\n",
    "<li><a href=\"#all\">All Sorted Movies</a></li>\n",
    "</ul>\n"
   ]
  },
  {
   "cell_type": "code",
   "execution_count": 14,
   "id": "929f150e",
   "metadata": {
    "execution": {
     "iopub.execute_input": "2022-06-18T12:18:57.947219Z",
     "iopub.status.busy": "2022-06-18T12:18:57.946257Z",
     "iopub.status.idle": "2022-06-18T12:18:57.953325Z",
     "shell.execute_reply": "2022-06-18T12:18:57.952472Z"
    },
    "papermill": {
     "duration": 0.029425,
     "end_time": "2022-06-18T12:18:57.955458",
     "exception": false,
     "start_time": "2022-06-18T12:18:57.926033",
     "status": "completed"
    },
    "tags": []
   },
   "outputs": [],
   "source": [
    "# Helper function for plotting correlation graph.\n",
    "def corr_plot(x, y, title, x_label, y_label):\n",
    "    plt.title(title)\n",
    "    plt.scatter(x, y);\n",
    "    # This method plots a line of best-fit onto the scatter plot.\n",
    "    plt.plot(np.unique(x), np.poly1d(np.polyfit(x, y, 1))\n",
    "            (np.unique(x)), color=\"red\", label=(\"corr = \" + str(y.corr(x))));\n",
    "    plt.xlabel(x_label);\n",
    "    plt.ylabel(y_label);\n",
    "    plt.legend(loc=1)"
   ]
  },
  {
   "cell_type": "code",
   "execution_count": 15,
   "id": "669605cd",
   "metadata": {
    "execution": {
     "iopub.execute_input": "2022-06-18T12:18:57.995889Z",
     "iopub.status.busy": "2022-06-18T12:18:57.995269Z",
     "iopub.status.idle": "2022-06-18T12:18:58.037460Z",
     "shell.execute_reply": "2022-06-18T12:18:58.036854Z"
    },
    "papermill": {
     "duration": 0.064431,
     "end_time": "2022-06-18T12:18:58.039237",
     "exception": false,
     "start_time": "2022-06-18T12:18:57.974806",
     "status": "completed"
    },
    "tags": []
   },
   "outputs": [
    {
     "data": {
      "text/html": [
       "<div>\n",
       "<style scoped>\n",
       "    .dataframe tbody tr th:only-of-type {\n",
       "        vertical-align: middle;\n",
       "    }\n",
       "\n",
       "    .dataframe tbody tr th {\n",
       "        vertical-align: top;\n",
       "    }\n",
       "\n",
       "    .dataframe thead th {\n",
       "        text-align: right;\n",
       "    }\n",
       "</style>\n",
       "<table border=\"1\" class=\"dataframe\">\n",
       "  <thead>\n",
       "    <tr style=\"text-align: right;\">\n",
       "      <th></th>\n",
       "      <th>id</th>\n",
       "      <th>popularity</th>\n",
       "      <th>budget</th>\n",
       "      <th>revenue</th>\n",
       "      <th>runtime</th>\n",
       "      <th>vote_count</th>\n",
       "      <th>vote_average</th>\n",
       "      <th>release_year</th>\n",
       "      <th>budget_adj</th>\n",
       "      <th>revenue_adj</th>\n",
       "    </tr>\n",
       "  </thead>\n",
       "  <tbody>\n",
       "    <tr>\n",
       "      <th>count</th>\n",
       "      <td>10843.000000</td>\n",
       "      <td>10843.000000</td>\n",
       "      <td>1.084300e+04</td>\n",
       "      <td>1.084300e+04</td>\n",
       "      <td>10843.000000</td>\n",
       "      <td>10843.000000</td>\n",
       "      <td>10843.000000</td>\n",
       "      <td>10843.000000</td>\n",
       "      <td>1.084300e+04</td>\n",
       "      <td>1.084300e+04</td>\n",
       "    </tr>\n",
       "    <tr>\n",
       "      <th>mean</th>\n",
       "      <td>65868.491930</td>\n",
       "      <td>0.647456</td>\n",
       "      <td>1.465672e+07</td>\n",
       "      <td>3.990779e+07</td>\n",
       "      <td>102.137508</td>\n",
       "      <td>217.813705</td>\n",
       "      <td>5.973974</td>\n",
       "      <td>2001.315595</td>\n",
       "      <td>1.758827e+07</td>\n",
       "      <td>5.147332e+07</td>\n",
       "    </tr>\n",
       "    <tr>\n",
       "      <th>std</th>\n",
       "      <td>91977.394803</td>\n",
       "      <td>1.000986</td>\n",
       "      <td>3.093864e+07</td>\n",
       "      <td>1.171131e+08</td>\n",
       "      <td>31.293320</td>\n",
       "      <td>576.155351</td>\n",
       "      <td>0.934260</td>\n",
       "      <td>12.813298</td>\n",
       "      <td>3.433299e+07</td>\n",
       "      <td>1.447664e+08</td>\n",
       "    </tr>\n",
       "    <tr>\n",
       "      <th>min</th>\n",
       "      <td>5.000000</td>\n",
       "      <td>0.000065</td>\n",
       "      <td>0.000000e+00</td>\n",
       "      <td>0.000000e+00</td>\n",
       "      <td>0.000000</td>\n",
       "      <td>10.000000</td>\n",
       "      <td>1.500000</td>\n",
       "      <td>1960.000000</td>\n",
       "      <td>0.000000e+00</td>\n",
       "      <td>0.000000e+00</td>\n",
       "    </tr>\n",
       "    <tr>\n",
       "      <th>25%</th>\n",
       "      <td>10589.500000</td>\n",
       "      <td>0.208253</td>\n",
       "      <td>0.000000e+00</td>\n",
       "      <td>0.000000e+00</td>\n",
       "      <td>90.000000</td>\n",
       "      <td>17.000000</td>\n",
       "      <td>5.400000</td>\n",
       "      <td>1995.000000</td>\n",
       "      <td>0.000000e+00</td>\n",
       "      <td>0.000000e+00</td>\n",
       "    </tr>\n",
       "    <tr>\n",
       "      <th>50%</th>\n",
       "      <td>20558.000000</td>\n",
       "      <td>0.384555</td>\n",
       "      <td>0.000000e+00</td>\n",
       "      <td>0.000000e+00</td>\n",
       "      <td>99.000000</td>\n",
       "      <td>38.000000</td>\n",
       "      <td>6.000000</td>\n",
       "      <td>2006.000000</td>\n",
       "      <td>0.000000e+00</td>\n",
       "      <td>0.000000e+00</td>\n",
       "    </tr>\n",
       "    <tr>\n",
       "      <th>75%</th>\n",
       "      <td>75182.000000</td>\n",
       "      <td>0.715349</td>\n",
       "      <td>1.500000e+07</td>\n",
       "      <td>2.413675e+07</td>\n",
       "      <td>111.000000</td>\n",
       "      <td>146.000000</td>\n",
       "      <td>6.600000</td>\n",
       "      <td>2011.000000</td>\n",
       "      <td>2.093530e+07</td>\n",
       "      <td>3.387655e+07</td>\n",
       "    </tr>\n",
       "    <tr>\n",
       "      <th>max</th>\n",
       "      <td>417859.000000</td>\n",
       "      <td>32.985763</td>\n",
       "      <td>4.250000e+08</td>\n",
       "      <td>2.781506e+09</td>\n",
       "      <td>900.000000</td>\n",
       "      <td>9767.000000</td>\n",
       "      <td>9.200000</td>\n",
       "      <td>2015.000000</td>\n",
       "      <td>4.250000e+08</td>\n",
       "      <td>2.827124e+09</td>\n",
       "    </tr>\n",
       "  </tbody>\n",
       "</table>\n",
       "</div>"
      ],
      "text/plain": [
       "                  id    popularity        budget       revenue       runtime  \\\n",
       "count   10843.000000  10843.000000  1.084300e+04  1.084300e+04  10843.000000   \n",
       "mean    65868.491930      0.647456  1.465672e+07  3.990779e+07    102.137508   \n",
       "std     91977.394803      1.000986  3.093864e+07  1.171131e+08     31.293320   \n",
       "min         5.000000      0.000065  0.000000e+00  0.000000e+00      0.000000   \n",
       "25%     10589.500000      0.208253  0.000000e+00  0.000000e+00     90.000000   \n",
       "50%     20558.000000      0.384555  0.000000e+00  0.000000e+00     99.000000   \n",
       "75%     75182.000000      0.715349  1.500000e+07  2.413675e+07    111.000000   \n",
       "max    417859.000000     32.985763  4.250000e+08  2.781506e+09    900.000000   \n",
       "\n",
       "         vote_count  vote_average  release_year    budget_adj   revenue_adj  \n",
       "count  10843.000000  10843.000000  10843.000000  1.084300e+04  1.084300e+04  \n",
       "mean     217.813705      5.973974   2001.315595  1.758827e+07  5.147332e+07  \n",
       "std      576.155351      0.934260     12.813298  3.433299e+07  1.447664e+08  \n",
       "min       10.000000      1.500000   1960.000000  0.000000e+00  0.000000e+00  \n",
       "25%       17.000000      5.400000   1995.000000  0.000000e+00  0.000000e+00  \n",
       "50%       38.000000      6.000000   2006.000000  0.000000e+00  0.000000e+00  \n",
       "75%      146.000000      6.600000   2011.000000  2.093530e+07  3.387655e+07  \n",
       "max     9767.000000      9.200000   2015.000000  4.250000e+08  2.827124e+09  "
      ]
     },
     "execution_count": 15,
     "metadata": {},
     "output_type": "execute_result"
    }
   ],
   "source": [
    "# Use this, and more code cells, to explore your data. Don't forget to add\n",
    "#   Markdown cells to document your observations and findings.\n",
    "df.describe()"
   ]
  },
  {
   "cell_type": "markdown",
   "id": "a01b6fc5",
   "metadata": {
    "papermill": {
     "duration": 0.018779,
     "end_time": "2022-06-18T12:18:58.078547",
     "exception": false,
     "start_time": "2022-06-18T12:18:58.059768",
     "status": "completed"
    },
    "tags": []
   },
   "source": [
    "We are going to add a new columns:\n",
    "\n",
    "1. ``returns`` \n",
    "\n",
    "$$\n",
    "returns = {revenueAdj} - {budgetAdj}\n",
    "$$\n",
    "\n",
    "which will show the returns of the movies."
   ]
  },
  {
   "cell_type": "code",
   "execution_count": 16,
   "id": "4ff8dc05",
   "metadata": {
    "execution": {
     "iopub.execute_input": "2022-06-18T12:18:58.118534Z",
     "iopub.status.busy": "2022-06-18T12:18:58.117893Z",
     "iopub.status.idle": "2022-06-18T12:18:58.140967Z",
     "shell.execute_reply": "2022-06-18T12:18:58.140289Z"
    },
    "papermill": {
     "duration": 0.045364,
     "end_time": "2022-06-18T12:18:58.142760",
     "exception": false,
     "start_time": "2022-06-18T12:18:58.097396",
     "status": "completed"
    },
    "tags": []
   },
   "outputs": [
    {
     "data": {
      "text/html": [
       "<div>\n",
       "<style scoped>\n",
       "    .dataframe tbody tr th:only-of-type {\n",
       "        vertical-align: middle;\n",
       "    }\n",
       "\n",
       "    .dataframe tbody tr th {\n",
       "        vertical-align: top;\n",
       "    }\n",
       "\n",
       "    .dataframe thead th {\n",
       "        text-align: right;\n",
       "    }\n",
       "</style>\n",
       "<table border=\"1\" class=\"dataframe\">\n",
       "  <thead>\n",
       "    <tr style=\"text-align: right;\">\n",
       "      <th></th>\n",
       "      <th>id</th>\n",
       "      <th>imdb_id</th>\n",
       "      <th>popularity</th>\n",
       "      <th>budget</th>\n",
       "      <th>revenue</th>\n",
       "      <th>original_title</th>\n",
       "      <th>runtime</th>\n",
       "      <th>genres</th>\n",
       "      <th>release_date</th>\n",
       "      <th>vote_count</th>\n",
       "      <th>vote_average</th>\n",
       "      <th>release_year</th>\n",
       "      <th>budget_adj</th>\n",
       "      <th>revenue_adj</th>\n",
       "      <th>returns</th>\n",
       "    </tr>\n",
       "  </thead>\n",
       "  <tbody>\n",
       "    <tr>\n",
       "      <th>0</th>\n",
       "      <td>135397</td>\n",
       "      <td>tt0369610</td>\n",
       "      <td>32.985763</td>\n",
       "      <td>150000000</td>\n",
       "      <td>1513528810</td>\n",
       "      <td>Jurassic World</td>\n",
       "      <td>124</td>\n",
       "      <td>Action|Adventure|Science Fiction|Thriller</td>\n",
       "      <td>6/9/15</td>\n",
       "      <td>5562</td>\n",
       "      <td>6.5</td>\n",
       "      <td>2015</td>\n",
       "      <td>1.379999e+08</td>\n",
       "      <td>1.392446e+09</td>\n",
       "      <td>1.254446e+09</td>\n",
       "    </tr>\n",
       "    <tr>\n",
       "      <th>1</th>\n",
       "      <td>76341</td>\n",
       "      <td>tt1392190</td>\n",
       "      <td>28.419936</td>\n",
       "      <td>150000000</td>\n",
       "      <td>378436354</td>\n",
       "      <td>Mad Max: Fury Road</td>\n",
       "      <td>120</td>\n",
       "      <td>Action|Adventure|Science Fiction|Thriller</td>\n",
       "      <td>5/13/15</td>\n",
       "      <td>6185</td>\n",
       "      <td>7.1</td>\n",
       "      <td>2015</td>\n",
       "      <td>1.379999e+08</td>\n",
       "      <td>3.481613e+08</td>\n",
       "      <td>2.101614e+08</td>\n",
       "    </tr>\n",
       "    <tr>\n",
       "      <th>2</th>\n",
       "      <td>262500</td>\n",
       "      <td>tt2908446</td>\n",
       "      <td>13.112507</td>\n",
       "      <td>110000000</td>\n",
       "      <td>295238201</td>\n",
       "      <td>Insurgent</td>\n",
       "      <td>119</td>\n",
       "      <td>Adventure|Science Fiction|Thriller</td>\n",
       "      <td>3/18/15</td>\n",
       "      <td>2480</td>\n",
       "      <td>6.3</td>\n",
       "      <td>2015</td>\n",
       "      <td>1.012000e+08</td>\n",
       "      <td>2.716190e+08</td>\n",
       "      <td>1.704191e+08</td>\n",
       "    </tr>\n",
       "    <tr>\n",
       "      <th>3</th>\n",
       "      <td>140607</td>\n",
       "      <td>tt2488496</td>\n",
       "      <td>11.173104</td>\n",
       "      <td>200000000</td>\n",
       "      <td>2068178225</td>\n",
       "      <td>Star Wars: The Force Awakens</td>\n",
       "      <td>136</td>\n",
       "      <td>Action|Adventure|Science Fiction|Fantasy</td>\n",
       "      <td>12/15/15</td>\n",
       "      <td>5292</td>\n",
       "      <td>7.5</td>\n",
       "      <td>2015</td>\n",
       "      <td>1.839999e+08</td>\n",
       "      <td>1.902723e+09</td>\n",
       "      <td>1.718723e+09</td>\n",
       "    </tr>\n",
       "    <tr>\n",
       "      <th>4</th>\n",
       "      <td>168259</td>\n",
       "      <td>tt2820852</td>\n",
       "      <td>9.335014</td>\n",
       "      <td>190000000</td>\n",
       "      <td>1506249360</td>\n",
       "      <td>Furious 7</td>\n",
       "      <td>137</td>\n",
       "      <td>Action|Crime|Thriller</td>\n",
       "      <td>4/1/15</td>\n",
       "      <td>2947</td>\n",
       "      <td>7.3</td>\n",
       "      <td>2015</td>\n",
       "      <td>1.747999e+08</td>\n",
       "      <td>1.385749e+09</td>\n",
       "      <td>1.210949e+09</td>\n",
       "    </tr>\n",
       "    <tr>\n",
       "      <th>5</th>\n",
       "      <td>281957</td>\n",
       "      <td>tt1663202</td>\n",
       "      <td>9.110700</td>\n",
       "      <td>135000000</td>\n",
       "      <td>532950503</td>\n",
       "      <td>The Revenant</td>\n",
       "      <td>156</td>\n",
       "      <td>Western|Drama|Adventure|Thriller</td>\n",
       "      <td>12/25/15</td>\n",
       "      <td>3929</td>\n",
       "      <td>7.2</td>\n",
       "      <td>2015</td>\n",
       "      <td>1.241999e+08</td>\n",
       "      <td>4.903142e+08</td>\n",
       "      <td>3.661143e+08</td>\n",
       "    </tr>\n",
       "    <tr>\n",
       "      <th>6</th>\n",
       "      <td>87101</td>\n",
       "      <td>tt1340138</td>\n",
       "      <td>8.654359</td>\n",
       "      <td>155000000</td>\n",
       "      <td>440603537</td>\n",
       "      <td>Terminator Genisys</td>\n",
       "      <td>125</td>\n",
       "      <td>Science Fiction|Action|Thriller|Adventure</td>\n",
       "      <td>6/23/15</td>\n",
       "      <td>2598</td>\n",
       "      <td>5.8</td>\n",
       "      <td>2015</td>\n",
       "      <td>1.425999e+08</td>\n",
       "      <td>4.053551e+08</td>\n",
       "      <td>2.627551e+08</td>\n",
       "    </tr>\n",
       "    <tr>\n",
       "      <th>7</th>\n",
       "      <td>286217</td>\n",
       "      <td>tt3659388</td>\n",
       "      <td>7.667400</td>\n",
       "      <td>108000000</td>\n",
       "      <td>595380321</td>\n",
       "      <td>The Martian</td>\n",
       "      <td>141</td>\n",
       "      <td>Drama|Adventure|Science Fiction</td>\n",
       "      <td>9/30/15</td>\n",
       "      <td>4572</td>\n",
       "      <td>7.6</td>\n",
       "      <td>2015</td>\n",
       "      <td>9.935996e+07</td>\n",
       "      <td>5.477497e+08</td>\n",
       "      <td>4.483897e+08</td>\n",
       "    </tr>\n",
       "    <tr>\n",
       "      <th>8</th>\n",
       "      <td>211672</td>\n",
       "      <td>tt2293640</td>\n",
       "      <td>7.404165</td>\n",
       "      <td>74000000</td>\n",
       "      <td>1156730962</td>\n",
       "      <td>Minions</td>\n",
       "      <td>91</td>\n",
       "      <td>Family|Animation|Adventure|Comedy</td>\n",
       "      <td>6/17/15</td>\n",
       "      <td>2893</td>\n",
       "      <td>6.5</td>\n",
       "      <td>2015</td>\n",
       "      <td>6.807997e+07</td>\n",
       "      <td>1.064192e+09</td>\n",
       "      <td>9.961120e+08</td>\n",
       "    </tr>\n",
       "    <tr>\n",
       "      <th>9</th>\n",
       "      <td>150540</td>\n",
       "      <td>tt2096673</td>\n",
       "      <td>6.326804</td>\n",
       "      <td>175000000</td>\n",
       "      <td>853708609</td>\n",
       "      <td>Inside Out</td>\n",
       "      <td>94</td>\n",
       "      <td>Comedy|Animation|Family</td>\n",
       "      <td>6/9/15</td>\n",
       "      <td>3935</td>\n",
       "      <td>8.0</td>\n",
       "      <td>2015</td>\n",
       "      <td>1.609999e+08</td>\n",
       "      <td>7.854116e+08</td>\n",
       "      <td>6.244116e+08</td>\n",
       "    </tr>\n",
       "  </tbody>\n",
       "</table>\n",
       "</div>"
      ],
      "text/plain": [
       "       id    imdb_id  popularity     budget     revenue  \\\n",
       "0  135397  tt0369610   32.985763  150000000  1513528810   \n",
       "1   76341  tt1392190   28.419936  150000000   378436354   \n",
       "2  262500  tt2908446   13.112507  110000000   295238201   \n",
       "3  140607  tt2488496   11.173104  200000000  2068178225   \n",
       "4  168259  tt2820852    9.335014  190000000  1506249360   \n",
       "5  281957  tt1663202    9.110700  135000000   532950503   \n",
       "6   87101  tt1340138    8.654359  155000000   440603537   \n",
       "7  286217  tt3659388    7.667400  108000000   595380321   \n",
       "8  211672  tt2293640    7.404165   74000000  1156730962   \n",
       "9  150540  tt2096673    6.326804  175000000   853708609   \n",
       "\n",
       "                 original_title  runtime  \\\n",
       "0                Jurassic World      124   \n",
       "1            Mad Max: Fury Road      120   \n",
       "2                     Insurgent      119   \n",
       "3  Star Wars: The Force Awakens      136   \n",
       "4                     Furious 7      137   \n",
       "5                  The Revenant      156   \n",
       "6            Terminator Genisys      125   \n",
       "7                   The Martian      141   \n",
       "8                       Minions       91   \n",
       "9                    Inside Out       94   \n",
       "\n",
       "                                      genres release_date  vote_count  \\\n",
       "0  Action|Adventure|Science Fiction|Thriller       6/9/15        5562   \n",
       "1  Action|Adventure|Science Fiction|Thriller      5/13/15        6185   \n",
       "2         Adventure|Science Fiction|Thriller      3/18/15        2480   \n",
       "3   Action|Adventure|Science Fiction|Fantasy     12/15/15        5292   \n",
       "4                      Action|Crime|Thriller       4/1/15        2947   \n",
       "5           Western|Drama|Adventure|Thriller     12/25/15        3929   \n",
       "6  Science Fiction|Action|Thriller|Adventure      6/23/15        2598   \n",
       "7            Drama|Adventure|Science Fiction      9/30/15        4572   \n",
       "8          Family|Animation|Adventure|Comedy      6/17/15        2893   \n",
       "9                    Comedy|Animation|Family       6/9/15        3935   \n",
       "\n",
       "   vote_average  release_year    budget_adj   revenue_adj       returns  \n",
       "0           6.5          2015  1.379999e+08  1.392446e+09  1.254446e+09  \n",
       "1           7.1          2015  1.379999e+08  3.481613e+08  2.101614e+08  \n",
       "2           6.3          2015  1.012000e+08  2.716190e+08  1.704191e+08  \n",
       "3           7.5          2015  1.839999e+08  1.902723e+09  1.718723e+09  \n",
       "4           7.3          2015  1.747999e+08  1.385749e+09  1.210949e+09  \n",
       "5           7.2          2015  1.241999e+08  4.903142e+08  3.661143e+08  \n",
       "6           5.8          2015  1.425999e+08  4.053551e+08  2.627551e+08  \n",
       "7           7.6          2015  9.935996e+07  5.477497e+08  4.483897e+08  \n",
       "8           6.5          2015  6.807997e+07  1.064192e+09  9.961120e+08  \n",
       "9           8.0          2015  1.609999e+08  7.854116e+08  6.244116e+08  "
      ]
     },
     "execution_count": 16,
     "metadata": {},
     "output_type": "execute_result"
    }
   ],
   "source": [
    "# Creating a new column called [returns].\n",
    "df['returns'] = df['revenue_adj'] - df['budget_adj']\n",
    "df.head(10)"
   ]
  },
  {
   "cell_type": "code",
   "execution_count": 17,
   "id": "97761897",
   "metadata": {
    "execution": {
     "iopub.execute_input": "2022-06-18T12:18:58.184092Z",
     "iopub.status.busy": "2022-06-18T12:18:58.183719Z",
     "iopub.status.idle": "2022-06-18T12:18:58.190974Z",
     "shell.execute_reply": "2022-06-18T12:18:58.190232Z"
    },
    "papermill": {
     "duration": 0.030411,
     "end_time": "2022-06-18T12:18:58.193159",
     "exception": false,
     "start_time": "2022-06-18T12:18:58.162748",
     "status": "completed"
    },
    "tags": []
   },
   "outputs": [],
   "source": [
    "# We are going to create a data set sorted at the returns column in decending order.\n",
    "df_sorted = df.sort_values(by=['returns'], ascending=False)"
   ]
  },
  {
   "cell_type": "code",
   "execution_count": 18,
   "id": "95e7503d",
   "metadata": {
    "execution": {
     "iopub.execute_input": "2022-06-18T12:18:58.234908Z",
     "iopub.status.busy": "2022-06-18T12:18:58.234251Z",
     "iopub.status.idle": "2022-06-18T12:18:58.239111Z",
     "shell.execute_reply": "2022-06-18T12:18:58.238310Z"
    },
    "papermill": {
     "duration": 0.027721,
     "end_time": "2022-06-18T12:18:58.241142",
     "exception": false,
     "start_time": "2022-06-18T12:18:58.213421",
     "status": "completed"
    },
    "tags": []
   },
   "outputs": [],
   "source": [
    "# The top 10 highest earners\n",
    "df_top10 = df_sorted.head(10)\n",
    "# The top 1000 highest earners\n",
    "df_top1000 = df_sorted.head(1000)\n",
    "# The top 10000 highest earners\n",
    "df_top10000 = df_sorted.head(10000)"
   ]
  },
  {
   "cell_type": "markdown",
   "id": "208693c3",
   "metadata": {
    "papermill": {
     "duration": 0.019478,
     "end_time": "2022-06-18T12:18:58.280422",
     "exception": false,
     "start_time": "2022-06-18T12:18:58.260944",
     "status": "completed"
    },
    "tags": []
   },
   "source": [
    "<a id='10'></a>\n",
    "# TOP 10\n",
    "\n",
    "We are going to investigate the folllowing properties and see correlation they have with high earnings in movies(Top 10):\n",
    "\n",
    "* `` popularity ``\n",
    "* `` vote_average ``\n",
    "* `` vote_count ``\n",
    "* `` budget_adj``\n",
    "* `` revenue_adj``\n",
    "* `` runtime ``\n"
   ]
  },
  {
   "cell_type": "code",
   "execution_count": 19,
   "id": "bf153e87",
   "metadata": {
    "execution": {
     "iopub.execute_input": "2022-06-18T12:18:58.322306Z",
     "iopub.status.busy": "2022-06-18T12:18:58.321889Z",
     "iopub.status.idle": "2022-06-18T12:18:58.364331Z",
     "shell.execute_reply": "2022-06-18T12:18:58.363562Z"
    },
    "papermill": {
     "duration": 0.065567,
     "end_time": "2022-06-18T12:18:58.366409",
     "exception": false,
     "start_time": "2022-06-18T12:18:58.300842",
     "status": "completed"
    },
    "tags": []
   },
   "outputs": [
    {
     "data": {
      "text/html": [
       "<div>\n",
       "<style scoped>\n",
       "    .dataframe tbody tr th:only-of-type {\n",
       "        vertical-align: middle;\n",
       "    }\n",
       "\n",
       "    .dataframe tbody tr th {\n",
       "        vertical-align: top;\n",
       "    }\n",
       "\n",
       "    .dataframe thead th {\n",
       "        text-align: right;\n",
       "    }\n",
       "</style>\n",
       "<table border=\"1\" class=\"dataframe\">\n",
       "  <thead>\n",
       "    <tr style=\"text-align: right;\">\n",
       "      <th></th>\n",
       "      <th>id</th>\n",
       "      <th>popularity</th>\n",
       "      <th>budget</th>\n",
       "      <th>revenue</th>\n",
       "      <th>runtime</th>\n",
       "      <th>vote_count</th>\n",
       "      <th>vote_average</th>\n",
       "      <th>release_year</th>\n",
       "      <th>budget_adj</th>\n",
       "      <th>revenue_adj</th>\n",
       "      <th>returns</th>\n",
       "    </tr>\n",
       "  </thead>\n",
       "  <tbody>\n",
       "    <tr>\n",
       "      <th>count</th>\n",
       "      <td>10.000000</td>\n",
       "      <td>10.000000</td>\n",
       "      <td>1.000000e+01</td>\n",
       "      <td>1.000000e+01</td>\n",
       "      <td>10.000000</td>\n",
       "      <td>10.000000</td>\n",
       "      <td>10.000000</td>\n",
       "      <td>10.000000</td>\n",
       "      <td>1.000000e+01</td>\n",
       "      <td>1.000000e+01</td>\n",
       "      <td>1.000000e+01</td>\n",
       "    </tr>\n",
       "    <tr>\n",
       "      <th>mean</th>\n",
       "      <td>18770.400000</td>\n",
       "      <td>5.373054</td>\n",
       "      <td>7.175000e+07</td>\n",
       "      <td>1.103555e+09</td>\n",
       "      <td>129.100000</td>\n",
       "      <td>3225.800000</td>\n",
       "      <td>7.170000</td>\n",
       "      <td>1986.400000</td>\n",
       "      <td>9.358221e+07</td>\n",
       "      <td>2.047448e+09</td>\n",
       "      <td>1.953866e+09</td>\n",
       "    </tr>\n",
       "    <tr>\n",
       "      <th>std</th>\n",
       "      <td>43326.905647</td>\n",
       "      <td>4.032734</td>\n",
       "      <td>9.767100e+07</td>\n",
       "      <td>8.463324e+08</td>\n",
       "      <td>30.635673</td>\n",
       "      <td>2578.760503</td>\n",
       "      <td>0.679951</td>\n",
       "      <td>17.056768</td>\n",
       "      <td>9.815577e+07</td>\n",
       "      <td>5.073786e+08</td>\n",
       "      <td>4.594601e+08</td>\n",
       "    </tr>\n",
       "    <tr>\n",
       "      <th>min</th>\n",
       "      <td>11.000000</td>\n",
       "      <td>1.136610</td>\n",
       "      <td>4.000000e+06</td>\n",
       "      <td>2.158800e+08</td>\n",
       "      <td>79.000000</td>\n",
       "      <td>201.000000</td>\n",
       "      <td>5.600000</td>\n",
       "      <td>1961.000000</td>\n",
       "      <td>2.372625e+07</td>\n",
       "      <td>1.424626e+09</td>\n",
       "      <td>1.376998e+09</td>\n",
       "    </tr>\n",
       "    <tr>\n",
       "      <th>25%</th>\n",
       "      <td>598.000000</td>\n",
       "      <td>2.580390</td>\n",
       "      <td>8.625000e+06</td>\n",
       "      <td>4.875905e+08</td>\n",
       "      <td>116.500000</td>\n",
       "      <td>1188.500000</td>\n",
       "      <td>7.125000</td>\n",
       "      <td>1975.500000</td>\n",
       "      <td>2.975490e+07</td>\n",
       "      <td>1.635211e+09</td>\n",
       "      <td>1.593357e+09</td>\n",
       "    </tr>\n",
       "    <tr>\n",
       "      <th>50%</th>\n",
       "      <td>1766.500000</td>\n",
       "      <td>3.627887</td>\n",
       "      <td>1.450000e+07</td>\n",
       "      <td>7.841543e+08</td>\n",
       "      <td>123.000000</td>\n",
       "      <td>2892.000000</td>\n",
       "      <td>7.250000</td>\n",
       "      <td>1981.000000</td>\n",
       "      <td>3.943243e+07</td>\n",
       "      <td>1.904864e+09</td>\n",
       "      <td>1.823306e+09</td>\n",
       "    </tr>\n",
       "    <tr>\n",
       "      <th>75%</th>\n",
       "      <td>11560.500000</td>\n",
       "      <td>8.446686</td>\n",
       "      <td>1.555000e+08</td>\n",
       "      <td>1.660346e+09</td>\n",
       "      <td>133.000000</td>\n",
       "      <td>4597.500000</td>\n",
       "      <td>7.450000</td>\n",
       "      <td>1996.500000</td>\n",
       "      <td>1.499071e+08</td>\n",
       "      <td>2.421636e+09</td>\n",
       "      <td>2.208044e+09</td>\n",
       "    </tr>\n",
       "    <tr>\n",
       "      <th>max</th>\n",
       "      <td>140607.000000</td>\n",
       "      <td>12.037933</td>\n",
       "      <td>2.370000e+08</td>\n",
       "      <td>2.781506e+09</td>\n",
       "      <td>194.000000</td>\n",
       "      <td>8458.000000</td>\n",
       "      <td>8.000000</td>\n",
       "      <td>2015.000000</td>\n",
       "      <td>2.716921e+08</td>\n",
       "      <td>2.827124e+09</td>\n",
       "      <td>2.750137e+09</td>\n",
       "    </tr>\n",
       "  </tbody>\n",
       "</table>\n",
       "</div>"
      ],
      "text/plain": [
       "                  id  popularity        budget       revenue     runtime  \\\n",
       "count      10.000000   10.000000  1.000000e+01  1.000000e+01   10.000000   \n",
       "mean    18770.400000    5.373054  7.175000e+07  1.103555e+09  129.100000   \n",
       "std     43326.905647    4.032734  9.767100e+07  8.463324e+08   30.635673   \n",
       "min        11.000000    1.136610  4.000000e+06  2.158800e+08   79.000000   \n",
       "25%       598.000000    2.580390  8.625000e+06  4.875905e+08  116.500000   \n",
       "50%      1766.500000    3.627887  1.450000e+07  7.841543e+08  123.000000   \n",
       "75%     11560.500000    8.446686  1.555000e+08  1.660346e+09  133.000000   \n",
       "max    140607.000000   12.037933  2.370000e+08  2.781506e+09  194.000000   \n",
       "\n",
       "        vote_count  vote_average  release_year    budget_adj   revenue_adj  \\\n",
       "count    10.000000     10.000000     10.000000  1.000000e+01  1.000000e+01   \n",
       "mean   3225.800000      7.170000   1986.400000  9.358221e+07  2.047448e+09   \n",
       "std    2578.760503      0.679951     17.056768  9.815577e+07  5.073786e+08   \n",
       "min     201.000000      5.600000   1961.000000  2.372625e+07  1.424626e+09   \n",
       "25%    1188.500000      7.125000   1975.500000  2.975490e+07  1.635211e+09   \n",
       "50%    2892.000000      7.250000   1981.000000  3.943243e+07  1.904864e+09   \n",
       "75%    4597.500000      7.450000   1996.500000  1.499071e+08  2.421636e+09   \n",
       "max    8458.000000      8.000000   2015.000000  2.716921e+08  2.827124e+09   \n",
       "\n",
       "            returns  \n",
       "count  1.000000e+01  \n",
       "mean   1.953866e+09  \n",
       "std    4.594601e+08  \n",
       "min    1.376998e+09  \n",
       "25%    1.593357e+09  \n",
       "50%    1.823306e+09  \n",
       "75%    2.208044e+09  \n",
       "max    2.750137e+09  "
      ]
     },
     "execution_count": 19,
     "metadata": {},
     "output_type": "execute_result"
    }
   ],
   "source": [
    "df_top10.describe()"
   ]
  },
  {
   "cell_type": "code",
   "execution_count": 20,
   "id": "b00ea704",
   "metadata": {
    "execution": {
     "iopub.execute_input": "2022-06-18T12:18:58.409148Z",
     "iopub.status.busy": "2022-06-18T12:18:58.408542Z",
     "iopub.status.idle": "2022-06-18T12:18:58.673236Z",
     "shell.execute_reply": "2022-06-18T12:18:58.672090Z"
    },
    "papermill": {
     "duration": 0.288971,
     "end_time": "2022-06-18T12:18:58.675884",
     "exception": false,
     "start_time": "2022-06-18T12:18:58.386913",
     "status": "completed"
    },
    "tags": []
   },
   "outputs": [
    {
     "data": {
      "image/png": "[encoded data removed]",
      "text/plain": [
       "<Figure size 432x288 with 1 Axes>"
      ]
     },
     "metadata": {
      "needs_background": "light"
     },
     "output_type": "display_data"
    }
   ],
   "source": [
    "# Scatter plot of Returns and Popularity\n",
    "x = df_top10['returns']\n",
    "y = df_top10['popularity']\n",
    "title ='Correlation Between Returns and Popularity'\n",
    "x_label = 'Returns'\n",
    "y_label = 'Popularity'\n",
    "\n",
    "corr_plot(x, y, title, x_label, y_label)"
   ]
  },
  {
   "cell_type": "code",
   "execution_count": 21,
   "id": "34c9664d",
   "metadata": {
    "execution": {
     "iopub.execute_input": "2022-06-18T12:18:58.719244Z",
     "iopub.status.busy": "2022-06-18T12:18:58.718791Z",
     "iopub.status.idle": "2022-06-18T12:18:58.939147Z",
     "shell.execute_reply": "2022-06-18T12:18:58.938132Z"
    },
    "papermill": {
     "duration": 0.244438,
     "end_time": "2022-06-18T12:18:58.941531",
     "exception": false,
     "start_time": "2022-06-18T12:18:58.697093",
     "status": "completed"
    },
    "tags": []
   },
   "outputs": [
    {
     "data": {
      "image/png": "[encoded data removed]",
      "text/plain": [
       "<Figure size 432x288 with 1 Axes>"
      ]
     },
     "metadata": {
      "needs_background": "light"
     },
     "output_type": "display_data"
    }
   ],
   "source": [
    "# Scatter plot of Returns and Vote average\n",
    "x = df_top10['returns']\n",
    "y = df_top10['vote_average']\n",
    "title ='Correlation Between Returns and Vote Average'\n",
    "x_label = 'Returns'\n",
    "y_label = 'Vote Average'\n",
    "corr_plot(x, y, title, x_label, y_label)"
   ]
  },
  {
   "cell_type": "code",
   "execution_count": 22,
   "id": "f1d9dffb",
   "metadata": {
    "execution": {
     "iopub.execute_input": "2022-06-18T12:18:58.986107Z",
     "iopub.status.busy": "2022-06-18T12:18:58.985197Z",
     "iopub.status.idle": "2022-06-18T12:18:59.196767Z",
     "shell.execute_reply": "2022-06-18T12:18:59.196025Z"
    },
    "papermill": {
     "duration": 0.236032,
     "end_time": "2022-06-18T12:18:59.198695",
     "exception": false,
     "start_time": "2022-06-18T12:18:58.962663",
     "status": "completed"
    },
    "tags": []
   },
   "outputs": [
    {
     "data": {
      "image/png": "[encoded data removed]",
      "text/plain": [
       "<Figure size 432x288 with 1 Axes>"
      ]
     },
     "metadata": {
      "needs_background": "light"
     },
     "output_type": "display_data"
    }
   ],
   "source": [
    "# Scatter plot of Returns and Budget_adj\n",
    "x = df_top10['returns']\n",
    "y = df_top10['budget_adj']\n",
    "title ='Correlation Between Returns and Budget Adj'\n",
    "x_label = 'Returns'\n",
    "y_label = 'Budget Adj.'\n",
    "corr_plot(x, y, title, x_label, y_label)"
   ]
  },
  {
   "cell_type": "code",
   "execution_count": 23,
   "id": "621275eb",
   "metadata": {
    "execution": {
     "iopub.execute_input": "2022-06-18T12:18:59.242641Z",
     "iopub.status.busy": "2022-06-18T12:18:59.242003Z",
     "iopub.status.idle": "2022-06-18T12:18:59.449083Z",
     "shell.execute_reply": "2022-06-18T12:18:59.448078Z"
    },
    "papermill": {
     "duration": 0.231564,
     "end_time": "2022-06-18T12:18:59.451321",
     "exception": false,
     "start_time": "2022-06-18T12:18:59.219757",
     "status": "completed"
    },
    "tags": []
   },
   "outputs": [
    {
     "data": {
      "image/png": "[encoded data removed]",
      "text/plain": [
       "<Figure size 432x288 with 1 Axes>"
      ]
     },
     "metadata": {
      "needs_background": "light"
     },
     "output_type": "display_data"
    }
   ],
   "source": [
    "# Scatter plot of Returns and Vote count\n",
    "x = df_top10['returns']\n",
    "y = df_top10['vote_count']\n",
    "title ='Correlation Between Returns and Vote Count'\n",
    "x_label = 'Returns'\n",
    "y_label = 'Vote Count'\n",
    "corr_plot(x, y, title, x_label, y_label)"
   ]
  },
  {
   "cell_type": "code",
   "execution_count": 24,
   "id": "eab88dbc",
   "metadata": {
    "execution": {
     "iopub.execute_input": "2022-06-18T12:18:59.496518Z",
     "iopub.status.busy": "2022-06-18T12:18:59.495768Z",
     "iopub.status.idle": "2022-06-18T12:18:59.720034Z",
     "shell.execute_reply": "2022-06-18T12:18:59.719088Z"
    },
    "papermill": {
     "duration": 0.249336,
     "end_time": "2022-06-18T12:18:59.722113",
     "exception": false,
     "start_time": "2022-06-18T12:18:59.472777",
     "status": "completed"
    },
    "tags": []
   },
   "outputs": [
    {
     "data": {
      "image/png": "[encoded data removed]",
      "text/plain": [
       "<Figure size 432x288 with 1 Axes>"
      ]
     },
     "metadata": {
      "needs_background": "light"
     },
     "output_type": "display_data"
    }
   ],
   "source": [
    "# Scatter plot of Returns and Revenue_adj\n",
    "x = df_top10['returns']\n",
    "y = df_top10['revenue_adj']\n",
    "title ='Correlation Between Returns and Revenue Adj'\n",
    "x_label = 'Returns'\n",
    "y_label = 'Revenue Adj'\n",
    "corr_plot(x, y, title, x_label, y_label)"
   ]
  },
  {
   "cell_type": "code",
   "execution_count": 25,
   "id": "8ad50d5b",
   "metadata": {
    "execution": {
     "iopub.execute_input": "2022-06-18T12:18:59.767954Z",
     "iopub.status.busy": "2022-06-18T12:18:59.767529Z",
     "iopub.status.idle": "2022-06-18T12:18:59.985103Z",
     "shell.execute_reply": "2022-06-18T12:18:59.984154Z"
    },
    "papermill": {
     "duration": 0.243832,
     "end_time": "2022-06-18T12:18:59.987754",
     "exception": false,
     "start_time": "2022-06-18T12:18:59.743922",
     "status": "completed"
    },
    "tags": []
   },
   "outputs": [
    {
     "data": {
      "image/png": "[encoded data removed]",
      "text/plain": [
       "<Figure size 432x288 with 1 Axes>"
      ]
     },
     "metadata": {
      "needs_background": "light"
     },
     "output_type": "display_data"
    }
   ],
   "source": [
    "# Scatter plot of Returns and Runtime\n",
    "x = df_top10['returns']\n",
    "y = df_top10['runtime']\n",
    "title ='Correlation Between Returns and Runtime'\n",
    "x_label = 'Returns'\n",
    "y_label = 'Runtime'\n",
    "corr_plot(x, y, title, x_label, y_label)"
   ]
  },
  {
   "cell_type": "markdown",
   "id": "f93fadb1",
   "metadata": {
    "papermill": {
     "duration": 0.022744,
     "end_time": "2022-06-18T12:19:00.033828",
     "exception": false,
     "start_time": "2022-06-18T12:19:00.011084",
     "status": "completed"
    },
    "tags": []
   },
   "source": [
    "<a id='1000'></a>\n",
    "# TOP 1000\n",
    "\n",
    "We are going to investigate the folllowing properties and see correlation they have with high earnings in movies(Top 1000):\n",
    "\n",
    "* `` popularity ``\n",
    "* `` vote_average ``\n",
    "* `` vote_count ``\n",
    "* `` budget_adj``\n",
    "* `` revenue_adj``\n",
    "* `` runtime ``\n"
   ]
  },
  {
   "cell_type": "code",
   "execution_count": 26,
   "id": "fa7e4c76",
   "metadata": {
    "execution": {
     "iopub.execute_input": "2022-06-18T12:19:00.079290Z",
     "iopub.status.busy": "2022-06-18T12:19:00.078807Z",
     "iopub.status.idle": "2022-06-18T12:19:00.125112Z",
     "shell.execute_reply": "2022-06-18T12:19:00.124158Z"
    },
    "papermill": {
     "duration": 0.071483,
     "end_time": "2022-06-18T12:19:00.127266",
     "exception": false,
     "start_time": "2022-06-18T12:19:00.055783",
     "status": "completed"
    },
    "tags": []
   },
   "outputs": [
    {
     "data": {
      "text/html": [
       "<div>\n",
       "<style scoped>\n",
       "    .dataframe tbody tr th:only-of-type {\n",
       "        vertical-align: middle;\n",
       "    }\n",
       "\n",
       "    .dataframe tbody tr th {\n",
       "        vertical-align: top;\n",
       "    }\n",
       "\n",
       "    .dataframe thead th {\n",
       "        text-align: right;\n",
       "    }\n",
       "</style>\n",
       "<table border=\"1\" class=\"dataframe\">\n",
       "  <thead>\n",
       "    <tr style=\"text-align: right;\">\n",
       "      <th></th>\n",
       "      <th>id</th>\n",
       "      <th>popularity</th>\n",
       "      <th>budget</th>\n",
       "      <th>revenue</th>\n",
       "      <th>runtime</th>\n",
       "      <th>vote_count</th>\n",
       "      <th>vote_average</th>\n",
       "      <th>release_year</th>\n",
       "      <th>budget_adj</th>\n",
       "      <th>revenue_adj</th>\n",
       "      <th>returns</th>\n",
       "    </tr>\n",
       "  </thead>\n",
       "  <tbody>\n",
       "    <tr>\n",
       "      <th>count</th>\n",
       "      <td>1000.000000</td>\n",
       "      <td>1000.000000</td>\n",
       "      <td>1.000000e+03</td>\n",
       "      <td>1.000000e+03</td>\n",
       "      <td>1000.000000</td>\n",
       "      <td>1000.000000</td>\n",
       "      <td>1000.000000</td>\n",
       "      <td>1000.000000</td>\n",
       "      <td>1.000000e+03</td>\n",
       "      <td>1.000000e+03</td>\n",
       "      <td>1.000000e+03</td>\n",
       "    </tr>\n",
       "    <tr>\n",
       "      <th>mean</th>\n",
       "      <td>29075.598000</td>\n",
       "      <td>2.155741</td>\n",
       "      <td>6.271133e+07</td>\n",
       "      <td>2.986500e+08</td>\n",
       "      <td>116.491000</td>\n",
       "      <td>1218.975000</td>\n",
       "      <td>6.483000</td>\n",
       "      <td>1998.396000</td>\n",
       "      <td>7.348528e+07</td>\n",
       "      <td>3.913854e+08</td>\n",
       "      <td>3.179001e+08</td>\n",
       "    </tr>\n",
       "    <tr>\n",
       "      <th>std</th>\n",
       "      <td>55902.283109</td>\n",
       "      <td>2.323532</td>\n",
       "      <td>5.871683e+07</td>\n",
       "      <td>2.561761e+08</td>\n",
       "      <td>29.111912</td>\n",
       "      <td>1355.295421</td>\n",
       "      <td>0.696661</td>\n",
       "      <td>13.177512</td>\n",
       "      <td>5.851688e+07</td>\n",
       "      <td>2.953603e+08</td>\n",
       "      <td>2.732800e+08</td>\n",
       "    </tr>\n",
       "    <tr>\n",
       "      <th>min</th>\n",
       "      <td>11.000000</td>\n",
       "      <td>0.044675</td>\n",
       "      <td>0.000000e+00</td>\n",
       "      <td>2.500000e+07</td>\n",
       "      <td>69.000000</td>\n",
       "      <td>10.000000</td>\n",
       "      <td>4.200000</td>\n",
       "      <td>1960.000000</td>\n",
       "      <td>0.000000e+00</td>\n",
       "      <td>1.113289e+08</td>\n",
       "      <td>1.113289e+08</td>\n",
       "    </tr>\n",
       "    <tr>\n",
       "      <th>25%</th>\n",
       "      <td>954.750000</td>\n",
       "      <td>0.949233</td>\n",
       "      <td>1.647500e+07</td>\n",
       "      <td>1.473242e+08</td>\n",
       "      <td>99.000000</td>\n",
       "      <td>304.000000</td>\n",
       "      <td>6.000000</td>\n",
       "      <td>1991.000000</td>\n",
       "      <td>2.830800e+07</td>\n",
       "      <td>2.058193e+08</td>\n",
       "      <td>1.510479e+08</td>\n",
       "    </tr>\n",
       "    <tr>\n",
       "      <th>50%</th>\n",
       "      <td>9036.000000</td>\n",
       "      <td>1.557851</td>\n",
       "      <td>4.500000e+07</td>\n",
       "      <td>2.224777e+08</td>\n",
       "      <td>113.000000</td>\n",
       "      <td>715.500000</td>\n",
       "      <td>6.500000</td>\n",
       "      <td>2001.000000</td>\n",
       "      <td>6.094353e+07</td>\n",
       "      <td>2.972425e+08</td>\n",
       "      <td>2.217477e+08</td>\n",
       "    </tr>\n",
       "    <tr>\n",
       "      <th>75%</th>\n",
       "      <td>20395.500000</td>\n",
       "      <td>2.604346</td>\n",
       "      <td>9.200000e+07</td>\n",
       "      <td>3.620530e+08</td>\n",
       "      <td>128.000000</td>\n",
       "      <td>1666.500000</td>\n",
       "      <td>7.000000</td>\n",
       "      <td>2009.000000</td>\n",
       "      <td>1.077646e+08</td>\n",
       "      <td>4.701839e+08</td>\n",
       "      <td>3.794305e+08</td>\n",
       "    </tr>\n",
       "    <tr>\n",
       "      <th>max</th>\n",
       "      <td>417859.000000</td>\n",
       "      <td>32.985763</td>\n",
       "      <td>3.800000e+08</td>\n",
       "      <td>2.781506e+09</td>\n",
       "      <td>705.000000</td>\n",
       "      <td>9767.000000</td>\n",
       "      <td>8.300000</td>\n",
       "      <td>2015.000000</td>\n",
       "      <td>3.683713e+08</td>\n",
       "      <td>2.827124e+09</td>\n",
       "      <td>2.750137e+09</td>\n",
       "    </tr>\n",
       "  </tbody>\n",
       "</table>\n",
       "</div>"
      ],
      "text/plain": [
       "                  id   popularity        budget       revenue      runtime  \\\n",
       "count    1000.000000  1000.000000  1.000000e+03  1.000000e+03  1000.000000   \n",
       "mean    29075.598000     2.155741  6.271133e+07  2.986500e+08   116.491000   \n",
       "std     55902.283109     2.323532  5.871683e+07  2.561761e+08    29.111912   \n",
       "min        11.000000     0.044675  0.000000e+00  2.500000e+07    69.000000   \n",
       "25%       954.750000     0.949233  1.647500e+07  1.473242e+08    99.000000   \n",
       "50%      9036.000000     1.557851  4.500000e+07  2.224777e+08   113.000000   \n",
       "75%     20395.500000     2.604346  9.200000e+07  3.620530e+08   128.000000   \n",
       "max    417859.000000    32.985763  3.800000e+08  2.781506e+09   705.000000   \n",
       "\n",
       "        vote_count  vote_average  release_year    budget_adj   revenue_adj  \\\n",
       "count  1000.000000   1000.000000   1000.000000  1.000000e+03  1.000000e+03   \n",
       "mean   1218.975000      6.483000   1998.396000  7.348528e+07  3.913854e+08   \n",
       "std    1355.295421      0.696661     13.177512  5.851688e+07  2.953603e+08   \n",
       "min      10.000000      4.200000   1960.000000  0.000000e+00  1.113289e+08   \n",
       "25%     304.000000      6.000000   1991.000000  2.830800e+07  2.058193e+08   \n",
       "50%     715.500000      6.500000   2001.000000  6.094353e+07  2.972425e+08   \n",
       "75%    1666.500000      7.000000   2009.000000  1.077646e+08  4.701839e+08   \n",
       "max    9767.000000      8.300000   2015.000000  3.683713e+08  2.827124e+09   \n",
       "\n",
       "            returns  \n",
       "count  1.000000e+03  \n",
       "mean   3.179001e+08  \n",
       "std    2.732800e+08  \n",
       "min    1.113289e+08  \n",
       "25%    1.510479e+08  \n",
       "50%    2.217477e+08  \n",
       "75%    3.794305e+08  \n",
       "max    2.750137e+09  "
      ]
     },
     "execution_count": 26,
     "metadata": {},
     "output_type": "execute_result"
    }
   ],
   "source": [
    "df_top1000.describe()"
   ]
  },
  {
   "cell_type": "code",
   "execution_count": 27,
   "id": "d93fd1a8",
   "metadata": {
    "execution": {
     "iopub.execute_input": "2022-06-18T12:19:00.174071Z",
     "iopub.status.busy": "2022-06-18T12:19:00.173510Z",
     "iopub.status.idle": "2022-06-18T12:19:00.382669Z",
     "shell.execute_reply": "2022-06-18T12:19:00.381727Z"
    },
    "papermill": {
     "duration": 0.234811,
     "end_time": "2022-06-18T12:19:00.384801",
     "exception": false,
     "start_time": "2022-06-18T12:19:00.149990",
     "status": "completed"
    },
    "tags": []
   },
   "outputs": [
    {
     "data": {
      "image/png": "[encoded data removed]",
      "text/plain": [
       "<Figure size 432x288 with 1 Axes>"
      ]
     },
     "metadata": {
      "needs_background": "light"
     },
     "output_type": "display_data"
    }
   ],
   "source": [
    "x = df_top1000['returns']\n",
    "y = df_top1000['popularity']\n",
    "title ='Correlation Between Returns and Popularity'\n",
    "x_label = 'Returns'\n",
    "y_label = 'Popularity'\n",
    "corr_plot(x, y, title, x_label, y_label)"
   ]
  },
  {
   "cell_type": "code",
   "execution_count": 28,
   "id": "42b99c7b",
   "metadata": {
    "execution": {
     "iopub.execute_input": "2022-06-18T12:19:00.444244Z",
     "iopub.status.busy": "2022-06-18T12:19:00.443219Z",
     "iopub.status.idle": "2022-06-18T12:19:00.646404Z",
     "shell.execute_reply": "2022-06-18T12:19:00.645443Z"
    },
    "papermill": {
     "duration": 0.241229,
     "end_time": "2022-06-18T12:19:00.648822",
     "exception": false,
     "start_time": "2022-06-18T12:19:00.407593",
     "status": "completed"
    },
    "tags": []
   },
   "outputs": [
    {
     "data": {
      "image/png": "[encoded data removed]",
      "text/plain": [
       "<Figure size 432x288 with 1 Axes>"
      ]
     },
     "metadata": {
      "needs_background": "light"
     },
     "output_type": "display_data"
    }
   ],
   "source": [
    "x = df_top1000['returns']\n",
    "y = df_top1000['vote_average']\n",
    "title ='Correlation Between Returns and Vote average'\n",
    "x_label = 'Returns'\n",
    "y_label = 'Vote Average'\n",
    "corr_plot(x, y, title, x_label, y_label)"
   ]
  },
  {
   "cell_type": "code",
   "execution_count": 29,
   "id": "c2687e48",
   "metadata": {
    "execution": {
     "iopub.execute_input": "2022-06-18T12:19:00.697091Z",
     "iopub.status.busy": "2022-06-18T12:19:00.696698Z",
     "iopub.status.idle": "2022-06-18T12:19:00.876742Z",
     "shell.execute_reply": "2022-06-18T12:19:00.875834Z"
    },
    "papermill": {
     "duration": 0.206733,
     "end_time": "2022-06-18T12:19:00.879000",
     "exception": false,
     "start_time": "2022-06-18T12:19:00.672267",
     "status": "completed"
    },
    "tags": []
   },
   "outputs": [
    {
     "data": {
      "image/png": "[encoded data removed]",
      "text/plain": [
       "<Figure size 432x288 with 1 Axes>"
      ]
     },
     "metadata": {
      "needs_background": "light"
     },
     "output_type": "display_data"
    }
   ],
   "source": [
    "x = df_top1000['returns']\n",
    "y = df_top1000['budget_adj']\n",
    "title ='Correlation Between Returns and Budget Adj'\n",
    "x_label = 'Returns'\n",
    "y_label = 'Budget Adj.'\n",
    "corr_plot(x, y, title, x_label, y_label)"
   ]
  },
  {
   "cell_type": "code",
   "execution_count": 30,
   "id": "fb2134ce",
   "metadata": {
    "execution": {
     "iopub.execute_input": "2022-06-18T12:19:00.929154Z",
     "iopub.status.busy": "2022-06-18T12:19:00.928379Z",
     "iopub.status.idle": "2022-06-18T12:19:01.091010Z",
     "shell.execute_reply": "2022-06-18T12:19:01.089948Z"
    },
    "papermill": {
     "duration": 0.190244,
     "end_time": "2022-06-18T12:19:01.093349",
     "exception": false,
     "start_time": "2022-06-18T12:19:00.903105",
     "status": "completed"
    },
    "tags": []
   },
   "outputs": [
    {
     "data": {
      "image/png": "[encoded data removed]",
      "text/plain": [
       "<Figure size 432x288 with 1 Axes>"
      ]
     },
     "metadata": {
      "needs_background": "light"
     },
     "output_type": "display_data"
    }
   ],
   "source": [
    "x = df_top1000['returns']\n",
    "y = df_top1000['vote_count']\n",
    "title ='Correlation Between Returns and Vote Count'\n",
    "x_label = 'Returns'\n",
    "y_label = 'Vote Count'\n",
    "corr_plot(x, y, title, x_label, y_label)"
   ]
  },
  {
   "cell_type": "code",
   "execution_count": 31,
   "id": "ea26f8fb",
   "metadata": {
    "execution": {
     "iopub.execute_input": "2022-06-18T12:19:01.145578Z",
     "iopub.status.busy": "2022-06-18T12:19:01.145054Z",
     "iopub.status.idle": "2022-06-18T12:19:01.356021Z",
     "shell.execute_reply": "2022-06-18T12:19:01.355036Z"
    },
    "papermill": {
     "duration": 0.239946,
     "end_time": "2022-06-18T12:19:01.358319",
     "exception": false,
     "start_time": "2022-06-18T12:19:01.118373",
     "status": "completed"
    },
    "tags": []
   },
   "outputs": [
    {
     "data": {
      "image/png": "[encoded data removed]",
      "text/plain": [
       "<Figure size 432x288 with 1 Axes>"
      ]
     },
     "metadata": {
      "needs_background": "light"
     },
     "output_type": "display_data"
    }
   ],
   "source": [
    "x = df_top1000['returns']\n",
    "y = df_top1000['revenue_adj']\n",
    "title ='Correlation Between Returns and Revenue Adj'\n",
    "x_label = 'Returns'\n",
    "y_label = 'Revenue Adj'\n",
    "corr_plot(x, y, title, x_label, y_label)"
   ]
  },
  {
   "cell_type": "code",
   "execution_count": 32,
   "id": "72282c3f",
   "metadata": {
    "execution": {
     "iopub.execute_input": "2022-06-18T12:19:01.409497Z",
     "iopub.status.busy": "2022-06-18T12:19:01.408887Z",
     "iopub.status.idle": "2022-06-18T12:19:01.624308Z",
     "shell.execute_reply": "2022-06-18T12:19:01.622591Z"
    },
    "papermill": {
     "duration": 0.243764,
     "end_time": "2022-06-18T12:19:01.626674",
     "exception": false,
     "start_time": "2022-06-18T12:19:01.382910",
     "status": "completed"
    },
    "tags": []
   },
   "outputs": [
    {
     "data": {
      "image/png": "[encoded data removed]",
      "text/plain": [
       "<Figure size 432x288 with 1 Axes>"
      ]
     },
     "metadata": {
      "needs_background": "light"
     },
     "output_type": "display_data"
    }
   ],
   "source": [
    "x = df_top1000['returns']\n",
    "y = df_top1000['runtime']\n",
    "title ='Correlation Between Returns and Runtime'\n",
    "x_label = 'Returns'\n",
    "y_label = 'Runtime'\n",
    "corr_plot(x, y, title, x_label, y_label)"
   ]
  },
  {
   "cell_type": "markdown",
   "id": "01b26e15",
   "metadata": {
    "papermill": {
     "duration": 0.02503,
     "end_time": "2022-06-18T12:19:01.678504",
     "exception": false,
     "start_time": "2022-06-18T12:19:01.653474",
     "status": "completed"
    },
    "tags": []
   },
   "source": [
    "<a id='10000'></a>\n",
    "# TOP 10000\n",
    "\n",
    "We are going to investigate the folllowing properties and see correlation they have with high earnings in movies(Top 10000):\n",
    "\n",
    "* `` popularity ``\n",
    "* `` vote_average ``\n",
    "* `` vote_count ``\n",
    "* `` budget_adj``\n",
    "* `` revenue_adj``\n",
    "* `` runtime ``\n"
   ]
  },
  {
   "cell_type": "code",
   "execution_count": 33,
   "id": "6f623a43",
   "metadata": {
    "execution": {
     "iopub.execute_input": "2022-06-18T12:19:01.731250Z",
     "iopub.status.busy": "2022-06-18T12:19:01.730344Z",
     "iopub.status.idle": "2022-06-18T12:19:01.778957Z",
     "shell.execute_reply": "2022-06-18T12:19:01.777949Z"
    },
    "papermill": {
     "duration": 0.077391,
     "end_time": "2022-06-18T12:19:01.781119",
     "exception": false,
     "start_time": "2022-06-18T12:19:01.703728",
     "status": "completed"
    },
    "tags": []
   },
   "outputs": [
    {
     "data": {
      "text/html": [
       "<div>\n",
       "<style scoped>\n",
       "    .dataframe tbody tr th:only-of-type {\n",
       "        vertical-align: middle;\n",
       "    }\n",
       "\n",
       "    .dataframe tbody tr th {\n",
       "        vertical-align: top;\n",
       "    }\n",
       "\n",
       "    .dataframe thead th {\n",
       "        text-align: right;\n",
       "    }\n",
       "</style>\n",
       "<table border=\"1\" class=\"dataframe\">\n",
       "  <thead>\n",
       "    <tr style=\"text-align: right;\">\n",
       "      <th></th>\n",
       "      <th>id</th>\n",
       "      <th>popularity</th>\n",
       "      <th>budget</th>\n",
       "      <th>revenue</th>\n",
       "      <th>runtime</th>\n",
       "      <th>vote_count</th>\n",
       "      <th>vote_average</th>\n",
       "      <th>release_year</th>\n",
       "      <th>budget_adj</th>\n",
       "      <th>revenue_adj</th>\n",
       "      <th>returns</th>\n",
       "    </tr>\n",
       "  </thead>\n",
       "  <tbody>\n",
       "    <tr>\n",
       "      <th>count</th>\n",
       "      <td>10000.000000</td>\n",
       "      <td>10000.000000</td>\n",
       "      <td>1.000000e+04</td>\n",
       "      <td>1.000000e+04</td>\n",
       "      <td>10000.000000</td>\n",
       "      <td>10000.000000</td>\n",
       "      <td>10000.000000</td>\n",
       "      <td>10000.00000</td>\n",
       "      <td>1.000000e+04</td>\n",
       "      <td>1.000000e+04</td>\n",
       "      <td>1.000000e+04</td>\n",
       "    </tr>\n",
       "    <tr>\n",
       "      <th>mean</th>\n",
       "      <td>68730.515800</td>\n",
       "      <td>0.652988</td>\n",
       "      <td>1.275635e+07</td>\n",
       "      <td>4.248658e+07</td>\n",
       "      <td>101.326400</td>\n",
       "      <td>226.144300</td>\n",
       "      <td>5.994220</td>\n",
       "      <td>2001.44990</td>\n",
       "      <td>1.506371e+07</td>\n",
       "      <td>5.483343e+07</td>\n",
       "      <td>3.976972e+07</td>\n",
       "    </tr>\n",
       "    <tr>\n",
       "      <th>std</th>\n",
       "      <td>93816.752918</td>\n",
       "      <td>1.034945</td>\n",
       "      <td>3.025630e+07</td>\n",
       "      <td>1.214924e+08</td>\n",
       "      <td>31.128347</td>\n",
       "      <td>597.069098</td>\n",
       "      <td>0.940358</td>\n",
       "      <td>12.98847</td>\n",
       "      <td>3.317740e+07</td>\n",
       "      <td>1.501424e+08</td>\n",
       "      <td>1.285765e+08</td>\n",
       "    </tr>\n",
       "    <tr>\n",
       "      <th>min</th>\n",
       "      <td>5.000000</td>\n",
       "      <td>0.000065</td>\n",
       "      <td>0.000000e+00</td>\n",
       "      <td>0.000000e+00</td>\n",
       "      <td>0.000000</td>\n",
       "      <td>10.000000</td>\n",
       "      <td>1.500000</td>\n",
       "      <td>1960.00000</td>\n",
       "      <td>0.000000e+00</td>\n",
       "      <td>0.000000e+00</td>\n",
       "      <td>-1.451532e+07</td>\n",
       "    </tr>\n",
       "    <tr>\n",
       "      <th>25%</th>\n",
       "      <td>10818.500000</td>\n",
       "      <td>0.201613</td>\n",
       "      <td>0.000000e+00</td>\n",
       "      <td>0.000000e+00</td>\n",
       "      <td>90.000000</td>\n",
       "      <td>16.000000</td>\n",
       "      <td>5.400000</td>\n",
       "      <td>1995.00000</td>\n",
       "      <td>0.000000e+00</td>\n",
       "      <td>0.000000e+00</td>\n",
       "      <td>0.000000e+00</td>\n",
       "    </tr>\n",
       "    <tr>\n",
       "      <th>50%</th>\n",
       "      <td>22251.000000</td>\n",
       "      <td>0.374939</td>\n",
       "      <td>0.000000e+00</td>\n",
       "      <td>0.000000e+00</td>\n",
       "      <td>98.000000</td>\n",
       "      <td>36.000000</td>\n",
       "      <td>6.000000</td>\n",
       "      <td>2006.00000</td>\n",
       "      <td>0.000000e+00</td>\n",
       "      <td>0.000000e+00</td>\n",
       "      <td>0.000000e+00</td>\n",
       "    </tr>\n",
       "    <tr>\n",
       "      <th>75%</th>\n",
       "      <td>80615.250000</td>\n",
       "      <td>0.712227</td>\n",
       "      <td>1.000000e+07</td>\n",
       "      <td>2.744392e+07</td>\n",
       "      <td>111.000000</td>\n",
       "      <td>147.250000</td>\n",
       "      <td>6.600000</td>\n",
       "      <td>2011.00000</td>\n",
       "      <td>1.310186e+07</td>\n",
       "      <td>3.791414e+07</td>\n",
       "      <td>1.873862e+07</td>\n",
       "    </tr>\n",
       "    <tr>\n",
       "      <th>max</th>\n",
       "      <td>417859.000000</td>\n",
       "      <td>32.985763</td>\n",
       "      <td>3.800000e+08</td>\n",
       "      <td>2.781506e+09</td>\n",
       "      <td>900.000000</td>\n",
       "      <td>9767.000000</td>\n",
       "      <td>9.200000</td>\n",
       "      <td>2015.00000</td>\n",
       "      <td>3.683713e+08</td>\n",
       "      <td>2.827124e+09</td>\n",
       "      <td>2.750137e+09</td>\n",
       "    </tr>\n",
       "  </tbody>\n",
       "</table>\n",
       "</div>"
      ],
      "text/plain": [
       "                  id    popularity        budget       revenue       runtime  \\\n",
       "count   10000.000000  10000.000000  1.000000e+04  1.000000e+04  10000.000000   \n",
       "mean    68730.515800      0.652988  1.275635e+07  4.248658e+07    101.326400   \n",
       "std     93816.752918      1.034945  3.025630e+07  1.214924e+08     31.128347   \n",
       "min         5.000000      0.000065  0.000000e+00  0.000000e+00      0.000000   \n",
       "25%     10818.500000      0.201613  0.000000e+00  0.000000e+00     90.000000   \n",
       "50%     22251.000000      0.374939  0.000000e+00  0.000000e+00     98.000000   \n",
       "75%     80615.250000      0.712227  1.000000e+07  2.744392e+07    111.000000   \n",
       "max    417859.000000     32.985763  3.800000e+08  2.781506e+09    900.000000   \n",
       "\n",
       "         vote_count  vote_average  release_year    budget_adj   revenue_adj  \\\n",
       "count  10000.000000  10000.000000   10000.00000  1.000000e+04  1.000000e+04   \n",
       "mean     226.144300      5.994220    2001.44990  1.506371e+07  5.483343e+07   \n",
       "std      597.069098      0.940358      12.98847  3.317740e+07  1.501424e+08   \n",
       "min       10.000000      1.500000    1960.00000  0.000000e+00  0.000000e+00   \n",
       "25%       16.000000      5.400000    1995.00000  0.000000e+00  0.000000e+00   \n",
       "50%       36.000000      6.000000    2006.00000  0.000000e+00  0.000000e+00   \n",
       "75%      147.250000      6.600000    2011.00000  1.310186e+07  3.791414e+07   \n",
       "max     9767.000000      9.200000    2015.00000  3.683713e+08  2.827124e+09   \n",
       "\n",
       "            returns  \n",
       "count  1.000000e+04  \n",
       "mean   3.976972e+07  \n",
       "std    1.285765e+08  \n",
       "min   -1.451532e+07  \n",
       "25%    0.000000e+00  \n",
       "50%    0.000000e+00  \n",
       "75%    1.873862e+07  \n",
       "max    2.750137e+09  "
      ]
     },
     "execution_count": 33,
     "metadata": {},
     "output_type": "execute_result"
    }
   ],
   "source": [
    "df_top10000.describe()"
   ]
  },
  {
   "cell_type": "code",
   "execution_count": 34,
   "id": "2d3b9a06",
   "metadata": {
    "execution": {
     "iopub.execute_input": "2022-06-18T12:19:01.833796Z",
     "iopub.status.busy": "2022-06-18T12:19:01.833427Z",
     "iopub.status.idle": "2022-06-18T12:19:02.064698Z",
     "shell.execute_reply": "2022-06-18T12:19:02.063708Z"
    },
    "papermill": {
     "duration": 0.260252,
     "end_time": "2022-06-18T12:19:02.067048",
     "exception": false,
     "start_time": "2022-06-18T12:19:01.806796",
     "status": "completed"
    },
    "tags": []
   },
   "outputs": [
    {
     "data": {
      "image/png": "[encoded data removed]",
      "text/plain": [
       "<Figure size 432x288 with 1 Axes>"
      ]
     },
     "metadata": {
      "needs_background": "light"
     },
     "output_type": "display_data"
    }
   ],
   "source": [
    "x = df_top10000['returns']\n",
    "y = df_top10000['popularity']\n",
    "title ='Correlation Between Returns and Popularity'\n",
    "x_label = 'Returns'\n",
    "y_label = 'Popularity'\n",
    "corr_plot(x, y, title, x_label, y_label)"
   ]
  },
  {
   "cell_type": "code",
   "execution_count": 35,
   "id": "f594dfc0",
   "metadata": {
    "execution": {
     "iopub.execute_input": "2022-06-18T12:19:02.123396Z",
     "iopub.status.busy": "2022-06-18T12:19:02.122302Z",
     "iopub.status.idle": "2022-06-18T12:19:02.347874Z",
     "shell.execute_reply": "2022-06-18T12:19:02.346938Z"
    },
    "papermill": {
     "duration": 0.256369,
     "end_time": "2022-06-18T12:19:02.349966",
     "exception": false,
     "start_time": "2022-06-18T12:19:02.093597",
     "status": "completed"
    },
    "tags": []
   },
   "outputs": [
    {
     "data": {
      "image/png": "[encoded data removed]",
      "text/plain": [
       "<Figure size 432x288 with 1 Axes>"
      ]
     },
     "metadata": {
      "needs_background": "light"
     },
     "output_type": "display_data"
    }
   ],
   "source": [
    "x = df_top10000['returns']\n",
    "y = df_top10000['vote_average']\n",
    "title ='Correlation Between Returns and Vote Average'\n",
    "x_label = 'Returns'\n",
    "y_label = 'Vote Average'\n",
    "corr_plot(x, y, title, x_label, y_label)"
   ]
  },
  {
   "cell_type": "code",
   "execution_count": 36,
   "id": "11f392db",
   "metadata": {
    "execution": {
     "iopub.execute_input": "2022-06-18T12:19:02.406593Z",
     "iopub.status.busy": "2022-06-18T12:19:02.406197Z",
     "iopub.status.idle": "2022-06-18T12:19:02.631588Z",
     "shell.execute_reply": "2022-06-18T12:19:02.630676Z"
    },
    "papermill": {
     "duration": 0.255967,
     "end_time": "2022-06-18T12:19:02.633913",
     "exception": false,
     "start_time": "2022-06-18T12:19:02.377946",
     "status": "completed"
    },
    "tags": []
   },
   "outputs": [
    {
     "data": {
      "image/png": "[encoded data removed]",
      "text/plain": [
       "<Figure size 432x288 with 1 Axes>"
      ]
     },
     "metadata": {
      "needs_background": "light"
     },
     "output_type": "display_data"
    }
   ],
   "source": [
    "x = df_top10000['returns']\n",
    "y = df_top10000['budget_adj']\n",
    "title ='Correlation Between Returns and Budget Adj'\n",
    "x_label = 'Returns'\n",
    "y_label = 'Budget Adj.'\n",
    "corr_plot(x, y, title, x_label, y_label)"
   ]
  },
  {
   "cell_type": "code",
   "execution_count": 37,
   "id": "a238fe8a",
   "metadata": {
    "execution": {
     "iopub.execute_input": "2022-06-18T12:19:02.691100Z",
     "iopub.status.busy": "2022-06-18T12:19:02.690679Z",
     "iopub.status.idle": "2022-06-18T12:19:02.918022Z",
     "shell.execute_reply": "2022-06-18T12:19:02.917331Z"
    },
    "papermill": {
     "duration": 0.258232,
     "end_time": "2022-06-18T12:19:02.919917",
     "exception": false,
     "start_time": "2022-06-18T12:19:02.661685",
     "status": "completed"
    },
    "tags": []
   },
   "outputs": [
    {
     "data": {
      "image/png": "[encoded data removed]",
      "text/plain": [
       "<Figure size 432x288 with 1 Axes>"
      ]
     },
     "metadata": {
      "needs_background": "light"
     },
     "output_type": "display_data"
    }
   ],
   "source": [
    "x = df_top10000['returns']\n",
    "y = df_top10000['vote_count']\n",
    "title ='Correlation Between Returns and Vote Count'\n",
    "x_label = 'Returns'\n",
    "y_label = 'Vote Count'\n",
    "corr_plot(x, y, title, x_label, y_label)"
   ]
  },
  {
   "cell_type": "code",
   "execution_count": 38,
   "id": "cb19b2f0",
   "metadata": {
    "execution": {
     "iopub.execute_input": "2022-06-18T12:19:02.978739Z",
     "iopub.status.busy": "2022-06-18T12:19:02.977412Z",
     "iopub.status.idle": "2022-06-18T12:19:03.358496Z",
     "shell.execute_reply": "2022-06-18T12:19:03.357520Z"
    },
    "papermill": {
     "duration": 0.412785,
     "end_time": "2022-06-18T12:19:03.360549",
     "exception": false,
     "start_time": "2022-06-18T12:19:02.947764",
     "status": "completed"
    },
    "tags": []
   },
   "outputs": [
    {
     "data": {
      "image/png": "[encoded data removed]",
      "text/plain": [
       "<Figure size 432x288 with 1 Axes>"
      ]
     },
     "metadata": {
      "needs_background": "light"
     },
     "output_type": "display_data"
    }
   ],
   "source": [
    "x = df_top10000['returns']\n",
    "y = df_top10000['revenue_adj']\n",
    "title ='Correlation Between Returns and Revenue Adj'\n",
    "x_label = 'Returns'\n",
    "y_label = 'Revenue Adj'\n",
    "corr_plot(x, y, title, x_label, y_label)"
   ]
  },
  {
   "cell_type": "code",
   "execution_count": 39,
   "id": "599cb114",
   "metadata": {
    "execution": {
     "iopub.execute_input": "2022-06-18T12:19:03.420424Z",
     "iopub.status.busy": "2022-06-18T12:19:03.420050Z",
     "iopub.status.idle": "2022-06-18T12:19:03.646964Z",
     "shell.execute_reply": "2022-06-18T12:19:03.646004Z"
    },
    "papermill": {
     "duration": 0.258794,
     "end_time": "2022-06-18T12:19:03.649079",
     "exception": false,
     "start_time": "2022-06-18T12:19:03.390285",
     "status": "completed"
    },
    "tags": []
   },
   "outputs": [
    {
     "data": {
      "image/png": "[encoded data removed]",
      "text/plain": [
       "<Figure size 432x288 with 1 Axes>"
      ]
     },
     "metadata": {
      "needs_background": "light"
     },
     "output_type": "display_data"
    }
   ],
   "source": [
    "x = df_top10000['returns']\n",
    "y = df_top10000['runtime']\n",
    "title ='Correlation Between Returns and Runtime'\n",
    "x_label = 'Returns'\n",
    "y_label = 'Runtime'\n",
    "corr_plot(x, y, title, x_label, y_label)"
   ]
  },
  {
   "cell_type": "markdown",
   "id": "0d265228",
   "metadata": {
    "papermill": {
     "duration": 0.029656,
     "end_time": "2022-06-18T12:19:03.707336",
     "exception": false,
     "start_time": "2022-06-18T12:19:03.677680",
     "status": "completed"
    },
    "tags": []
   },
   "source": [
    "<a id='all'></a>\n",
    "# ALL SORTED MOVIES\n",
    "\n",
    "We are going to investigate the folllowing properties and see correlation they have with high earnings in all movies:\n",
    "\n",
    "* `` popularity ``\n",
    "* `` vote_average ``\n",
    "* `` vote_count ``\n",
    "* `` budget_adj``\n",
    "* `` revenue_adj``\n",
    "* `` runtime ``\n"
   ]
  },
  {
   "cell_type": "code",
   "execution_count": 40,
   "id": "0c8eeb60",
   "metadata": {
    "execution": {
     "iopub.execute_input": "2022-06-18T12:19:03.768477Z",
     "iopub.status.busy": "2022-06-18T12:19:03.767918Z",
     "iopub.status.idle": "2022-06-18T12:19:04.000647Z",
     "shell.execute_reply": "2022-06-18T12:19:03.999421Z"
    },
    "papermill": {
     "duration": 0.265982,
     "end_time": "2022-06-18T12:19:04.003319",
     "exception": false,
     "start_time": "2022-06-18T12:19:03.737337",
     "status": "completed"
    },
    "tags": []
   },
   "outputs": [
    {
     "data": {
      "image/png": "[encoded data removed]",
      "text/plain": [
       "<Figure size 432x288 with 1 Axes>"
      ]
     },
     "metadata": {
      "needs_background": "light"
     },
     "output_type": "display_data"
    }
   ],
   "source": [
    "x = df_sorted['returns']\n",
    "y = df_sorted['popularity']\n",
    "title ='Correlation Between Returns and Popularity'\n",
    "x_label = 'Returns'\n",
    "y_label = 'Popularity'\n",
    "corr_plot(x, y, title, x_label, y_label)"
   ]
  },
  {
   "cell_type": "code",
   "execution_count": 41,
   "id": "9bfed53a",
   "metadata": {
    "execution": {
     "iopub.execute_input": "2022-06-18T12:19:04.065960Z",
     "iopub.status.busy": "2022-06-18T12:19:04.065504Z",
     "iopub.status.idle": "2022-06-18T12:19:04.296705Z",
     "shell.execute_reply": "2022-06-18T12:19:04.295774Z"
    },
    "papermill": {
     "duration": 0.264565,
     "end_time": "2022-06-18T12:19:04.298974",
     "exception": false,
     "start_time": "2022-06-18T12:19:04.034409",
     "status": "completed"
    },
    "tags": []
   },
   "outputs": [
    {
     "data": {
      "image/png": "[encoded data removed]",
      "text/plain": [
       "<Figure size 432x288 with 1 Axes>"
      ]
     },
     "metadata": {
      "needs_background": "light"
     },
     "output_type": "display_data"
    }
   ],
   "source": [
    "x = df_sorted['returns']\n",
    "y = df_sorted['vote_average']\n",
    "title ='Correlation Between Returns and Vote Average'\n",
    "x_label = 'Returns'\n",
    "y_label = 'Vote Average'\n",
    "corr_plot(x, y, title, x_label, y_label)"
   ]
  },
  {
   "cell_type": "code",
   "execution_count": 42,
   "id": "eb32ff57",
   "metadata": {
    "execution": {
     "iopub.execute_input": "2022-06-18T12:19:04.361380Z",
     "iopub.status.busy": "2022-06-18T12:19:04.360744Z",
     "iopub.status.idle": "2022-06-18T12:19:04.593690Z",
     "shell.execute_reply": "2022-06-18T12:19:04.592681Z"
    },
    "papermill": {
     "duration": 0.266835,
     "end_time": "2022-06-18T12:19:04.595952",
     "exception": false,
     "start_time": "2022-06-18T12:19:04.329117",
     "status": "completed"
    },
    "tags": []
   },
   "outputs": [
    {
     "data": {
      "image/png": "[encoded data removed]",
      "text/plain": [
       "<Figure size 432x288 with 1 Axes>"
      ]
     },
     "metadata": {
      "needs_background": "light"
     },
     "output_type": "display_data"
    }
   ],
   "source": [
    "x = df_sorted['returns']\n",
    "y = df_sorted['budget_adj']\n",
    "title ='Correlation Between Returns and Budget Adj'\n",
    "x_label = 'Returns'\n",
    "y_label = 'Budget Adj.'\n",
    "corr_plot(x, y, title, x_label, y_label)"
   ]
  },
  {
   "cell_type": "code",
   "execution_count": 43,
   "id": "b5da227b",
   "metadata": {
    "execution": {
     "iopub.execute_input": "2022-06-18T12:19:04.658153Z",
     "iopub.status.busy": "2022-06-18T12:19:04.657731Z",
     "iopub.status.idle": "2022-06-18T12:19:04.897004Z",
     "shell.execute_reply": "2022-06-18T12:19:04.895948Z"
    },
    "papermill": {
     "duration": 0.273243,
     "end_time": "2022-06-18T12:19:04.899511",
     "exception": false,
     "start_time": "2022-06-18T12:19:04.626268",
     "status": "completed"
    },
    "tags": []
   },
   "outputs": [
    {
     "data": {
      "image/png": "[encoded data removed]",
      "text/plain": [
       "<Figure size 432x288 with 1 Axes>"
      ]
     },
     "metadata": {
      "needs_background": "light"
     },
     "output_type": "display_data"
    }
   ],
   "source": [
    "x = df_sorted['returns']\n",
    "y = df_sorted['vote_count']\n",
    "title ='Correlation Between Returns and Vote Count'\n",
    "x_label = 'Returns'\n",
    "y_label = 'Vote Count'\n",
    "corr_plot(x, y, title, x_label, y_label)"
   ]
  },
  {
   "cell_type": "code",
   "execution_count": 44,
   "id": "ae32f5c3",
   "metadata": {
    "execution": {
     "iopub.execute_input": "2022-06-18T12:19:04.963582Z",
     "iopub.status.busy": "2022-06-18T12:19:04.962628Z",
     "iopub.status.idle": "2022-06-18T12:19:05.206701Z",
     "shell.execute_reply": "2022-06-18T12:19:05.205586Z"
    },
    "papermill": {
     "duration": 0.278446,
     "end_time": "2022-06-18T12:19:05.209123",
     "exception": false,
     "start_time": "2022-06-18T12:19:04.930677",
     "status": "completed"
    },
    "tags": []
   },
   "outputs": [
    {
     "data": {
      "image/png": "[encoded data removed]",
      "text/plain": [
       "<Figure size 432x288 with 1 Axes>"
      ]
     },
     "metadata": {
      "needs_background": "light"
     },
     "output_type": "display_data"
    }
   ],
   "source": [
    "x = df_sorted['returns']\n",
    "y = df_sorted['revenue_adj']\n",
    "title ='Correlation Between Returns and Revenue Adj'\n",
    "x_label = 'Returns'\n",
    "y_label = 'Revenue Adj'\n",
    "corr_plot(x, y, title, x_label, y_label)"
   ]
  },
  {
   "cell_type": "code",
   "execution_count": 45,
   "id": "eaf656bb",
   "metadata": {
    "execution": {
     "iopub.execute_input": "2022-06-18T12:19:05.276748Z",
     "iopub.status.busy": "2022-06-18T12:19:05.275842Z",
     "iopub.status.idle": "2022-06-18T12:19:05.503566Z",
     "shell.execute_reply": "2022-06-18T12:19:05.502494Z"
    },
    "papermill": {
     "duration": 0.264085,
     "end_time": "2022-06-18T12:19:05.505855",
     "exception": false,
     "start_time": "2022-06-18T12:19:05.241770",
     "status": "completed"
    },
    "tags": []
   },
   "outputs": [
    {
     "data": {
      "image/png": "[encoded data removed]",
      "text/plain": [
       "<Figure size 432x288 with 1 Axes>"
      ]
     },
     "metadata": {
      "needs_background": "light"
     },
     "output_type": "display_data"
    }
   ],
   "source": [
    "x = df_sorted['returns']\n",
    "y = df_sorted['runtime']\n",
    "title ='Correlation Between Returns and Runtime'\n",
    "x_label = 'Returns'\n",
    "y_label = 'Runtime'\n",
    "corr_plot(x, y, title, x_label, y_label)"
   ]
  },
  {
   "cell_type": "code",
   "execution_count": 46,
   "id": "f90e7680",
   "metadata": {
    "execution": {
     "iopub.execute_input": "2022-06-18T12:19:05.571826Z",
     "iopub.status.busy": "2022-06-18T12:19:05.571385Z",
     "iopub.status.idle": "2022-06-18T12:19:05.578225Z",
     "shell.execute_reply": "2022-06-18T12:19:05.577194Z"
    },
    "papermill": {
     "duration": 0.041819,
     "end_time": "2022-06-18T12:19:05.580276",
     "exception": false,
     "start_time": "2022-06-18T12:19:05.538457",
     "status": "completed"
    },
    "tags": []
   },
   "outputs": [
    {
     "name": "stdout",
     "output_type": "stream",
     "text": [
      "0.14232571701127333\n"
     ]
    }
   ],
   "source": [
    "x = df_sorted['returns']\n",
    "y = df_sorted['runtime']\n",
    "\n",
    "print(y.corr(x))"
   ]
  },
  {
   "cell_type": "code",
   "execution_count": null,
   "id": "7ba3305c",
   "metadata": {
    "papermill": {
     "duration": 0.031195,
     "end_time": "2022-06-18T12:19:05.642802",
     "exception": false,
     "start_time": "2022-06-18T12:19:05.611607",
     "status": "completed"
    },
    "tags": []
   },
   "outputs": [],
   "source": []
  },
  {
   "cell_type": "markdown",
   "id": "8f5a77e0",
   "metadata": {
    "papermill": {
     "duration": 0.031496,
     "end_time": "2022-06-18T12:19:05.705607",
     "exception": false,
     "start_time": "2022-06-18T12:19:05.674111",
     "status": "completed"
    },
    "tags": []
   },
   "source": [
    "<a id='conclusions'></a>\n",
    "## Conclusions\n",
    "\n",
    "   After we have checked the properties in the data set, we have found out that:\n",
    "   \n",
    "   * `` popularity``\n",
    "   * `` vote_average ``\n",
    "   * `` vote_count ``\n",
    "   * `` revenue_adj``\n",
    "        \n",
    "are good indicators of high earning movies since it show how the fans of the movies have recieved it.\n",
    "    \n",
    "   We also experiences limitation such as:\n",
    "   > **1**: Not all rows of genres and imdb_id we filled and thus, we had to drop them, they may be small but when analysing earnings/returns, each movie has a specific amount associated with it.\n",
    "        "
   ]
  },
  {
   "cell_type": "code",
   "execution_count": 47,
   "id": "de6b2467",
   "metadata": {
    "execution": {
     "iopub.execute_input": "2022-06-18T12:19:05.770634Z",
     "iopub.status.busy": "2022-06-18T12:19:05.770206Z",
     "iopub.status.idle": "2022-06-18T12:19:08.291153Z",
     "shell.execute_reply": "2022-06-18T12:19:08.290272Z"
    },
    "papermill": {
     "duration": 2.557576,
     "end_time": "2022-06-18T12:19:08.294954",
     "exception": false,
     "start_time": "2022-06-18T12:19:05.737378",
     "status": "completed"
    },
    "tags": []
   },
   "outputs": [
    {
     "name": "stdout",
     "output_type": "stream",
     "text": [
      "This application is used to convert notebook files (*.ipynb)\n",
      "        to various other formats.\n",
      "\n",
      "        WARNING: THE COMMANDLINE INTERFACE MAY CHANGE IN FUTURE RELEASES.\n",
      "\n",
      "Options\n",
      "=======\n",
      "The options below are convenience aliases to configurable class-options,\n",
      "as listed in the \"Equivalent to\" description-line of the aliases.\n",
      "To see all configurable class-options for some <cmd>, use:\n",
      "    <cmd> --help-all\n",
      "\n",
      "--debug\n",
      "    set log level to logging.DEBUG (maximize logging output)\n",
      "    Equivalent to: [--Application.log_level=10]\n",
      "--show-config\n",
      "    Show the application's configuration (human-readable format)\n",
      "    Equivalent to: [--Application.show_config=True]\n",
      "--show-config-json\n",
      "    Show the application's configuration (json format)\n",
      "    Equivalent to: [--Application.show_config_json=True]\n",
      "--generate-config\n",
      "    generate default config file\n",
      "    Equivalent to: [--JupyterApp.generate_config=True]\n",
      "-y\n",
      "    Answer yes to any questions instead of prompting.\n",
      "    Equivalent to: [--JupyterApp.answer_yes=True]\n",
      "--execute\n",
      "    Execute the notebook prior to export.\n",
      "    Equivalent to: [--ExecutePreprocessor.enabled=True]\n",
      "--allow-errors\n",
      "    Continue notebook execution even if one of the cells throws an error and include the error message in the cell output (the default behaviour is to abort conversion). This flag is only relevant if '--execute' was specified, too.\n",
      "    Equivalent to: [--ExecutePreprocessor.allow_errors=True]\n",
      "--stdin\n",
      "    read a single notebook file from stdin. Write the resulting notebook with default basename 'notebook.*'\n",
      "    Equivalent to: [--NbConvertApp.from_stdin=True]\n",
      "--stdout\n",
      "    Write notebook output to stdout instead of files.\n",
      "    Equivalent to: [--NbConvertApp.writer_class=StdoutWriter]\n",
      "--inplace\n",
      "    Run nbconvert in place, overwriting the existing notebook (only \n",
      "            relevant when converting to notebook format)\n",
      "    Equivalent to: [--NbConvertApp.use_output_suffix=False --NbConvertApp.export_format=notebook --FilesWriter.build_directory=]\n",
      "--clear-output\n",
      "    Clear output of current file and save in place, \n",
      "            overwriting the existing notebook.\n",
      "    Equivalent to: [--NbConvertApp.use_output_suffix=False --NbConvertApp.export_format=notebook --FilesWriter.build_directory= --ClearOutputPreprocessor.enabled=True]\n",
      "--no-prompt\n",
      "    Exclude input and output prompts from converted document.\n",
      "    Equivalent to: [--TemplateExporter.exclude_input_prompt=True --TemplateExporter.exclude_output_prompt=True]\n",
      "--no-input\n",
      "    Exclude input cells and output prompts from converted document. \n",
      "            This mode is ideal for generating code-free reports.\n",
      "    Equivalent to: [--TemplateExporter.exclude_output_prompt=True --TemplateExporter.exclude_input=True --TemplateExporter.exclude_input_prompt=True]\n",
      "--allow-chromium-download\n",
      "    Whether to allow downloading chromium if no suitable version is found on the system.\n",
      "    Equivalent to: [--WebPDFExporter.allow_chromium_download=True]\n",
      "--disable-chromium-sandbox\n",
      "    Disable chromium security sandbox when converting to PDF..\n",
      "    Equivalent to: [--WebPDFExporter.disable_sandbox=True]\n",
      "--show-input\n",
      "    Shows code input. This flag is only useful for dejavu users.\n",
      "    Equivalent to: [--TemplateExporter.exclude_input=False]\n",
      "--embed-images\n",
      "    Embed the images as base64 dataurls in the output. This flag is only useful for the HTML/WebPDF/Slides exports.\n",
      "    Equivalent to: [--HTMLExporter.embed_images=True]\n",
      "--log-level=<Enum>\n",
      "    Set the log level by value or name.\n",
      "    Choices: any of [0, 10, 20, 30, 40, 50, 'DEBUG', 'INFO', 'WARN', 'ERROR', 'CRITICAL']\n",
      "    Default: 30\n",
      "    Equivalent to: [--Application.log_level]\n",
      "--config=<Unicode>\n",
      "    Full path of a config file.\n",
      "    Default: ''\n",
      "    Equivalent to: [--JupyterApp.config_file]\n",
      "--to=<Unicode>\n",
      "    The export format to be used, either one of the built-in formats\n",
      "            ['asciidoc', 'custom', 'html', 'latex', 'markdown', 'notebook', 'pdf', 'python', 'rst', 'script', 'slides', 'webpdf']\n",
      "            or a dotted object name that represents the import path for an\n",
      "            ``Exporter`` class\n",
      "    Default: ''\n",
      "    Equivalent to: [--NbConvertApp.export_format]\n",
      "--template=<Unicode>\n",
      "    Name of the template to use\n",
      "    Default: ''\n",
      "    Equivalent to: [--TemplateExporter.template_name]\n",
      "--template-file=<Unicode>\n",
      "    Name of the template file to use\n",
      "    Default: None\n",
      "    Equivalent to: [--TemplateExporter.template_file]\n",
      "--theme=<Unicode>\n",
      "    Template specific theme(e.g. the name of a JupyterLab CSS theme distributed\n",
      "    as prebuilt extension for the lab template)\n",
      "    Default: 'light'\n",
      "    Equivalent to: [--HTMLExporter.theme]\n",
      "--writer=<DottedObjectName>\n",
      "    Writer class used to write the \n",
      "                                        results of the conversion\n",
      "    Default: 'FilesWriter'\n",
      "    Equivalent to: [--NbConvertApp.writer_class]\n",
      "--post=<DottedOrNone>\n",
      "    PostProcessor class used to write the\n",
      "                                        results of the conversion\n",
      "    Default: ''\n",
      "    Equivalent to: [--NbConvertApp.postprocessor_class]\n",
      "--output=<Unicode>\n",
      "    overwrite base name use for output files.\n",
      "                can only be used when converting one notebook at a time.\n",
      "    Default: ''\n",
      "    Equivalent to: [--NbConvertApp.output_base]\n",
      "--output-dir=<Unicode>\n",
      "    Directory to write output(s) to. Defaults\n",
      "                                  to output to the directory of each notebook. To recover\n",
      "                                  previous default behaviour (outputting to the current \n",
      "                                  working directory) use . as the flag value.\n",
      "    Default: ''\n",
      "    Equivalent to: [--FilesWriter.build_directory]\n",
      "--reveal-prefix=<Unicode>\n",
      "    The URL prefix for reveal.js (version 3.x).\n",
      "            This defaults to the reveal CDN, but can be any url pointing to a copy \n",
      "            of reveal.js. \n",
      "            For speaker notes to work, this must be a relative path to a local \n",
      "            copy of reveal.js: e.g., \"reveal.js\".\n",
      "            If a relative path is given, it must be a subdirectory of the\n",
      "            current directory (from which the server is run).\n",
      "            See the usage documentation\n",
      "            (https://nbconvert.readthedocs.io/en/latest/usage.html#reveal-js-html-slideshow)\n",
      "            for more details.\n",
      "    Default: ''\n",
      "    Equivalent to: [--SlidesExporter.reveal_url_prefix]\n",
      "--nbformat=<Enum>\n",
      "    The nbformat version to write.\n",
      "            Use this to downgrade notebooks.\n",
      "    Choices: any of [1, 2, 3, 4]\n",
      "    Default: 4\n",
      "    Equivalent to: [--NotebookExporter.nbformat_version]\n",
      "\n",
      "Examples\n",
      "--------\n",
      "\n",
      "    The simplest way to use nbconvert is\n",
      "\n",
      "            > jupyter nbconvert mynotebook.ipynb --to html\n",
      "\n",
      "            Options include ['asciidoc', 'custom', 'html', 'latex', 'markdown', 'notebook', 'pdf', 'python', 'rst', 'script', 'slides', 'webpdf'].\n",
      "\n",
      "            > jupyter nbconvert --to latex mynotebook.ipynb\n",
      "\n",
      "            Both HTML and LaTeX support multiple output templates. LaTeX includes\n",
      "            'base', 'article' and 'report'.  HTML includes 'basic', 'lab' and \n",
      "            'classic'. You can specify the flavor of the format used.\n",
      "\n",
      "            > jupyter nbconvert --to html --template lab mynotebook.ipynb\n",
      "\n",
      "            You can also pipe the output to stdout, rather than a file\n",
      "\n",
      "            > jupyter nbconvert mynotebook.ipynb --stdout\n",
      "\n",
      "            PDF is generated via latex\n",
      "\n",
      "            > jupyter nbconvert mynotebook.ipynb --to pdf\n",
      "\n",
      "            You can get (and serve) a Reveal.js-powered slideshow\n",
      "\n",
      "            > jupyter nbconvert myslides.ipynb --to slides --post serve\n",
      "\n",
      "            Multiple notebooks can be given at the command line in a couple of \n",
      "            different ways:\n",
      "\n",
      "            > jupyter nbconvert notebook*.ipynb\n",
      "            > jupyter nbconvert notebook1.ipynb notebook2.ipynb\n",
      "\n",
      "            or you can specify the notebooks list in a config file, containing::\n",
      "\n",
      "                c.NbConvertApp.notebooks = [\"my_notebook.ipynb\"]\n",
      "\n",
      "            > jupyter nbconvert --config mycfg.py\n",
      "\n",
      "To see all available configurables, use `--help-all`.\n",
      "\n"
     ]
    },
    {
     "name": "stderr",
     "output_type": "stream",
     "text": [
      "[NbConvertApp] WARNING | pattern 'Investigate_a_Dataset.ipynb' matched no files\n"
     ]
    },
    {
     "data": {
      "text/plain": [
       "255"
      ]
     },
     "execution_count": 47,
     "metadata": {},
     "output_type": "execute_result"
    }
   ],
   "source": [
    "from subprocess import call\n",
    "call(['python', '-m', 'nbconvert', 'Investigate_a_Dataset.ipynb'])"
   ]
  }
 ],
 "metadata": {
  "kernelspec": {
   "display_name": "Python 3",
   "language": "python",
   "name": "python3"
  },
  "language_info": {
   "codemirror_mode": {
    "name": "ipython",
    "version": 3
   },
   "file_extension": ".py",
   "mimetype": "text/x-python",
   "name": "python",
   "nbconvert_exporter": "python",
   "pygments_lexer": "ipython3",
   "version": "3.7.12"
  },
  "papermill": {
   "default_parameters": {},
   "duration": 23.811119,
   "end_time": "2022-06-18T12:19:09.149165",
   "environment_variables": {},
   "exception": null,
   "input_path": "__notebook__.ipynb",
   "output_path": "__notebook__.ipynb",
   "parameters": {},
   "start_time": "2022-06-18T12:18:45.338046",
   "version": "2.3.4"
  }
 },
 "nbformat": 4,
 "nbformat_minor": 5
}
